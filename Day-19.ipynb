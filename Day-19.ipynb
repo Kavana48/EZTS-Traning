{
 "cells": [
  {
   "cell_type": "code",
   "execution_count": 18,
   "id": "1e4fc102-5f83-4697-aab0-a6e2bbecda28",
   "metadata": {},
   "outputs": [
    {
     "name": "stdout",
     "output_type": "stream",
     "text": [
      "Minimum cost: 14\n"
     ]
    }
   ],
   "source": [
    "# Min cost matrix\n",
    "\n",
    "def find_min_cost(m):\n",
    "    r= len(m)-1\n",
    "    c= len(m[0])-1\n",
    "    i, j = 0, 0\n",
    "    total_cost = m[i][j]\n",
    "\n",
    "    while i < r or j < c :\n",
    "        if i == r : \n",
    "            j += 1\n",
    "        elif j == c : \n",
    "            i += 1\n",
    "        else:\n",
    "            if m[i][j + 1] < m[i + 1][j]:\n",
    "                j += 1\n",
    "            else:\n",
    "                i += 1\n",
    "        total_cost += m[i][j]\n",
    "    \n",
    "    return total_cost\n",
    "\n",
    "m = [\n",
    "    [1, 2, 2, 3],\n",
    "    [3, 1, 4, 2],\n",
    "    [1, 5, 3, 3],\n",
    "    [1, 2, 1, 1]\n",
    "]\n",
    "\n",
    "min_cost = find_min_cost(m)\n",
    "print(\"Minimum cost:\", min_cost)"
   ]
  },
  {
   "cell_type": "code",
   "execution_count": 19,
   "id": "95088800-b679-434d-be84-c08fada4c312",
   "metadata": {},
   "outputs": [
    {
     "name": "stdout",
     "output_type": "stream",
     "text": [
      "Minimum cost using dynamic programming: 10\n"
     ]
    }
   ],
   "source": [
    "# Using dynamic programming\n",
    "def find_min_cost_dp(matrix):\n",
    "    rows = len(matrix)\n",
    "    cols = len(matrix[0])\n",
    "    dp = [[0] * cols for _ in range(rows)]\n",
    "    dp[0][0] = matrix[0][0]\n",
    "    for j in range(1, cols):\n",
    "        dp[0][j] = dp[0][j - 1] + matrix[0][j]\n",
    "    for i in range(1, rows):\n",
    "        dp[i][0] = dp[i - 1][0] + matrix[i][0]\n",
    "    for i in range(1, rows):\n",
    "        for j in range(1, cols):\n",
    "            dp[i][j] = min(dp[i - 1][j], dp[i][j - 1]) + matrix[i][j]\n",
    "    return dp[rows - 1][cols - 1]\n",
    "\n",
    "matrix = [\n",
    "    [1, 2, 2, 3],\n",
    "    [3, 1, 4, 2],\n",
    "    [1, 5, 3, 3],\n",
    "    [1, 2, 1, 1]\n",
    "]\n",
    "\n",
    "min_cost = find_min_cost_dp(matrix)\n",
    "print(\"Minimum cost using dynamic programming:\", min_cost)\n"
   ]
  },
  {
   "cell_type": "code",
   "execution_count": 20,
   "id": "e28f443e-3092-4e93-9fec-74eb84832e64",
   "metadata": {},
   "outputs": [
    {
     "name": "stdout",
     "output_type": "stream",
     "text": [
      "Minimum cost using heap: 10\n"
     ]
    }
   ],
   "source": [
    "# Using Heap\n",
    "import heapq\n",
    "\n",
    "def find_min_cost_heap(matrix):\n",
    "    rows = len(matrix)\n",
    "    cols = len(matrix[0])\n",
    "    heap = [(matrix[0][0], 0, 0)]\n",
    "    directions = [(0, 1), (1, 0)]\n",
    "    cost = [[float('inf')] * cols for _ in range(rows)]\n",
    "    cost[0][0] = matrix[0][0]\n",
    "    \n",
    "    while heap:\n",
    "        current_cost, x, y = heapq.heappop(heap)\n",
    "        if x == rows - 1 and y == cols - 1:\n",
    "            return current_cost\n",
    "        for dx, dy in directions:\n",
    "            nx, ny = x + dx, y + dy\n",
    "            \n",
    "            if 0 <= nx < rows and 0 <= ny < cols:\n",
    "                new_cost = current_cost + matrix[nx][ny]\n",
    "                if new_cost < cost[nx][ny]:\n",
    "                    cost[nx][ny] = new_cost\n",
    "                    heapq.heappush(heap, (new_cost, nx, ny))\n",
    "    \n",
    "    return cost[rows - 1][cols - 1]\n",
    "\n",
    "matrix = [\n",
    "    [1, 2, 2, 3],\n",
    "    [3, 1, 4, 2],\n",
    "    [1, 5, 3, 3],\n",
    "    [1, 2, 1, 1]\n",
    "]\n",
    "\n",
    "min_cost = find_min_cost_heap(matrix)\n",
    "print(\"Minimum cost using heap:\", min_cost)\n"
   ]
  },
  {
   "cell_type": "code",
   "execution_count": null,
   "id": "622b09fc-6157-4386-ba66-3f31bcaf4d74",
   "metadata": {},
   "outputs": [],
   "source": []
  }
 ],
 "metadata": {
  "kernelspec": {
   "display_name": "Python 3 (ipykernel)",
   "language": "python",
   "name": "python3"
  },
  "language_info": {
   "codemirror_mode": {
    "name": "ipython",
    "version": 3
   },
   "file_extension": ".py",
   "mimetype": "text/x-python",
   "name": "python",
   "nbconvert_exporter": "python",
   "pygments_lexer": "ipython3",
   "version": "3.11.7"
  }
 },
 "nbformat": 4,
 "nbformat_minor": 5
}
