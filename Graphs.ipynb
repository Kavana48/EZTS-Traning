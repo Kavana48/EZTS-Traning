{
 "cells": [
  {
   "cell_type": "markdown",
   "id": "6239d6f2-9494-47f4-a9bb-add0520cdae5",
   "metadata": {},
   "source": [
    "## Day-10"
   ]
  },
  {
   "cell_type": "markdown",
   "id": "01bfa065-58a4-4eb2-a811-c0e15cd43a40",
   "metadata": {},
   "source": [
    "## Graphs"
   ]
  },
  {
   "cell_type": "markdown",
   "id": "a51c5eb9-d337-4359-a350-8f60c0e1908b",
   "metadata": {},
   "source": [
    "#### TREE IS A GRAPH BUT GRAPH IS NOT A TREE,IT HAS EDGES AND VERTICES."
   ]
  },
  {
   "cell_type": "markdown",
   "id": "2b02f55b-ec24-473f-b9e8-9efdf0591271",
   "metadata": {},
   "source": [
    "#### IN EDGES WE HAVE TWO TYPES: 1)WEIGHT 2)DIRECTION. IN EACH OF THEM THEY ARE TWO TYPES: 1) i)weighted directed n ii) unweighted undirected 2) i)unweighted directed n ii)weighted undirected. "
   ]
  },
  {
   "cell_type": "markdown",
   "id": "6c6465be-51e4-472a-ba52-ba35a32a23cb",
   "metadata": {},
   "source": [
    "#### Cost can be of any type: i)time 2)amount 3)distance. Graph can be stored in two ways: i) adjacency list : we create list of tuple(start,end,weight) ii) adjacency matrix."
   ]
  },
  {
   "cell_type": "code",
   "execution_count": 1,
   "id": "1acd547e-2c29-450c-8908-b7e1ceea6f3b",
   "metadata": {},
   "outputs": [
    {
     "name": "stdout",
     "output_type": "stream",
     "text": [
      "[1, 2, 3, 4, 5, 6, 7, 8]\n"
     ]
    }
   ],
   "source": [
    "ls=[(1, 2, 0), (1, 3, 0), (2, 1, 0), (2, 7, 0), (3, 1, 0), (3, 5, 0),\n",
    "    (3, 6, 0), (4, 7, 0), (4, 8, 0), (5, 3, 0), (5, 7, 0), (6, 3, 0),\n",
    "    (6, 8, 0), (7, 2, 0), (7, 4,  0), (7, 5, 0), (8, 4, 0), (8, 6, 0)]\n",
    "node=[]\n",
    "for i in ls: \n",
    "    if i[0] not in  node:\n",
    "        node.append(i[0])\n",
    "print(node)"
   ]
  },
  {
   "cell_type": "code",
   "execution_count": 2,
   "id": "10f31bb0-e744-4065-af13-621dc9d32182",
   "metadata": {},
   "outputs": [
    {
     "name": "stdout",
     "output_type": "stream",
     "text": [
      "{1: [(1, 2, 0), (1, 3, 0)], 2: [(2, 1, 0), (2, 7, 0)], 3: [(3, 1, 0), (3, 5, 0), (3, 6, 0)], 4: [(4, 7, 0), (4, 8, 0)], 5: [(5, 3, 0), (5, 7, 0)], 6: [(6, 3, 0), (6, 8, 0)], 7: [(7, 2, 0), (7, 4, 0), (7, 5, 0)], 8: [(8, 4, 0), (8, 6, 0)]}\n"
     ]
    }
   ],
   "source": [
    "dic={}\n",
    "for i in node:\n",
    "    temp =[]\n",
    "    for j in ls:\n",
    "        if i==j[0]:\n",
    "            temp.append(j)\n",
    "            dic[i]= temp            \n",
    "print(dic)"
   ]
  },
  {
   "cell_type": "markdown",
   "id": "ba70393d-411f-43b5-b93b-dc70154c0b60",
   "metadata": {},
   "source": [
    "#### Traversing- DFS"
   ]
  },
  {
   "cell_type": "code",
   "execution_count": 14,
   "id": "bc07a5cf-146e-4d28-b8f4-14ebaa35f1cb",
   "metadata": {},
   "outputs": [
    {
     "name": "stdout",
     "output_type": "stream",
     "text": [
      "Result: \n",
      "4 3 6 8 13 12 9 7 11 10 5 2 1 "
     ]
    }
   ],
   "source": [
    "# DFS\n",
    "def DFS(G,V,S,E):\n",
    "  if V[E]==False:\n",
    "    V[E]=True\n",
    "    S.append(E)\n",
    "  else:\n",
    "    return\n",
    "  for i in G[E]:\n",
    "      DFS(G,V,S,i[1])\n",
    "  print(S.pop(),end=\" \")\n",
    " \n",
    "S=[]\n",
    "G = {\n",
    "    1: [(1, 2, 0), (1, 3, 0)],\n",
    "    2: [(2, 1, 0), (2, 5, 0)],\n",
    "    3: [(3, 4, 0), (3, 6, 0)],\n",
    "    4: [(4, 3, 0)],\n",
    "    5: [(5, 2, 0), (5, 7, 0), (5, 10, 0), (5, 13, 0)],\n",
    "    6: [(6, 3, 0), (6, 7, 0)],\n",
    "    7: [(7, 5, 0), (7, 6, 0), (7, 8, 0), (7, 9, 0)],\n",
    "    8: [(8, 7, 0)],\n",
    "    9: [(9, 7, 0), (9, 12, 0)],\n",
    "    10: [(10, 5, 0), (10, 11, 0)],\n",
    "    11: [(11, 10, 0)],\n",
    "    12: [(12, 9, 0), (12, 13, 0)],\n",
    "    13: [(13, 5, 0), (13, 12, 0)]\n",
    "}\n",
    "V={}\n",
    "for i in G.keys():\n",
    "  V[i]=False\n",
    "print(\"Result: \")\n",
    "DFS(G,V,S,1)"
   ]
  },
  {
   "cell_type": "code",
   "execution_count": 1,
   "id": "3a7b1de9-4340-4a5a-970e-de2a32495695",
   "metadata": {},
   "outputs": [
    {
     "name": "stdout",
     "output_type": "stream",
     "text": [
      "4\n",
      "8\n",
      "6\n",
      "3\n",
      "5\n",
      "7\n",
      "2\n",
      "1\n"
     ]
    }
   ],
   "source": [
    "#Alternate\n",
    "def g_dfs(adjlist,v,st,e):\n",
    "    if v[e]=='F':\n",
    "        st.append(e)\n",
    "        v[e]='T' \n",
    "    else:\n",
    "        return\n",
    "    for i in adjlist[e]:\n",
    "        g_dfs(adjlist,v,st,i[1])\n",
    "    print(st.pop())\n",
    "st=[]\n",
    "v={1:'F',2:'F',3:'F',4:'F',5:'F',6:'F',7:'F',8:'F'}\n",
    "adjlist={1:[(1,2,0),(1,3,0)],\n",
    "             2:[(2,1,0),(2,7,0)],\n",
    "             3:[(3,1,0),(3,6,0),(3,5,0)],\n",
    "             4:[(4,7,0),(4,8,0)],\n",
    "             5:[(5,3,0),(5,7,0)],\n",
    "             6:[(6,3,0),(6,8,0)],\n",
    "             7:[(7,2,0),(7,5,0),(7,4,0)],\n",
    "             8:[(8,4,0),(8,6,0),(8,7,0)]}\n",
    "g_dfs(adjlist,v,st,1)"
   ]
  },
  {
   "cell_type": "markdown",
   "id": "70031b15-bba9-4794-95ef-336e9dda5a12",
   "metadata": {},
   "source": [
    "#### BFS"
   ]
  },
  {
   "cell_type": "code",
   "execution_count": 2,
   "id": "7ef56adc-0f50-4adc-b6b2-22b96d5739a4",
   "metadata": {},
   "outputs": [
    {
     "name": "stdout",
     "output_type": "stream",
     "text": [
      "1 3 6 7 9 12 13 8 5 10 11 4 2 "
     ]
    }
   ],
   "source": [
    "#BFS\n",
    "def BFS(G,e):\n",
    "    Q=[e]\n",
    "    V={}\n",
    "    for i in G.keys():\n",
    "        V[i]=False\n",
    "    V[e]=True\n",
    "    while len(Q)!=0:\n",
    "        curr=Q.pop()\n",
    "        print(curr,end=\" \")\n",
    "        for i in G[curr]:\n",
    "            if V[i[1]]==False:\n",
    "                Q.append(i[1])\n",
    "                V[i[1]]=True\n",
    "\n",
    "G = {\n",
    "    1: [(1, 2, 0), (1, 3, 0)],\n",
    "    2: [(2, 1, 0), (2, 5, 0)],\n",
    "    3: [(3, 4, 0), (3, 6, 0)],\n",
    "    4: [(4, 3, 0)],\n",
    "    5: [(5, 2, 0), (5, 7, 0), (5, 10, 0), (5, 13, 0)],\n",
    "    6: [(6, 3, 0), (6, 7, 0)],\n",
    "    7: [(7, 5, 0), (7, 6, 0), (7, 8, 0), (7, 9, 0)],\n",
    "    8: [(8, 7, 0)],\n",
    "    9: [(9, 7, 0), (9, 12, 0)],\n",
    "    10: [(10, 5, 0), (10, 11, 0)],\n",
    "    11: [(11, 10, 0)],\n",
    "    12: [(12, 9, 0), (12, 13, 0)],\n",
    "    13: [(13, 5, 0), (13, 12, 0)]\n",
    "}\n",
    "BFS(G,1)"
   ]
  },
  {
   "cell_type": "markdown",
   "id": "7dc1c063-17aa-4f80-ac3c-3e21d9fa3914",
   "metadata": {},
   "source": [
    "#### Binary Search Tree"
   ]
  },
  {
   "cell_type": "code",
   "execution_count": 7,
   "id": "18aea342-c6ce-4104-adf0-abb62c329ee5",
   "metadata": {},
   "outputs": [
    {
     "name": "stdout",
     "output_type": "stream",
     "text": [
      "Inorder traversal of the BST:\n",
      "1 2 3 4 5 6 7 8 9 \n",
      "Preorder traversal of the BST:\n",
      "4 3 2 1 6 5 7 8 9 \n",
      "Postorder traversal of the BST:\n",
      "1 2 3 5 9 8 7 6 4 "
     ]
    }
   ],
   "source": [
    "class Node:\n",
    "    def __init__(self, value):\n",
    "        self.left = None\n",
    "        self.right = None\n",
    "        self.val = value\n",
    "\n",
    "def insertBST(root, value):\n",
    "    if root == None:\n",
    "        return Node(value)\n",
    "    if value < root.val:\n",
    "        root.left = insertBST(root.left, value)\n",
    "    else:\n",
    "        root.right = insertBST(root.right, value)\n",
    "    return root\n",
    "\n",
    "def inorderTraversal(root):\n",
    "    if root:\n",
    "        inorderTraversal(root.left)\n",
    "        print(root.val, end=' ')\n",
    "        inorderTraversal(root.right)\n",
    "\n",
    "def preorderTraversal(root):\n",
    "    if root:\n",
    "        print(root.val, end=' ')\n",
    "        preorderTraversal(root.left)\n",
    "        preorderTraversal(root.right)\n",
    "\n",
    "def postorderTraversal(root):\n",
    "    if root:\n",
    "        postorderTraversal(root.left)\n",
    "        postorderTraversal(root.right)\n",
    "        print(root.val, end=' ')\n",
    "        \n",
    "list = [4, 6, 7, 3, 8, 2, 5, 9, 1]\n",
    "root = Node(list[0])\n",
    "\n",
    "for value in list[1:]:\n",
    "    insertBST(root, value)\n",
    "\n",
    "print(\"Inorder traversal of the BST:\")\n",
    "inorderTraversal(root)\n",
    "print(\"\\nPreorder traversal of the BST:\")\n",
    "preorderTraversal(root)\n",
    "print(\"\\nPostorder traversal of the BST:\")\n",
    "postorderTraversal(root)"
   ]
  },
  {
   "cell_type": "markdown",
   "id": "98587e41-dc92-4a65-b550-83a782fd5b26",
   "metadata": {},
   "source": [
    "## Day-11"
   ]
  },
  {
   "cell_type": "markdown",
   "id": "886fb145-3745-4fea-9004-31dee4b62211",
   "metadata": {},
   "source": [
    "#### AVL Tree"
   ]
  },
  {
   "cell_type": "code",
   "execution_count": 3,
   "id": "55bdac80-f797-48ca-a901-0966fcd8ea9f",
   "metadata": {},
   "outputs": [
    {
     "name": "stdout",
     "output_type": "stream",
     "text": [
      "Inorder traversal of the constructed AVL tree is:\n",
      "0 7 12 17 19 20 21 27 34 38 75 99 100 134 144 \n"
     ]
    }
   ],
   "source": [
    "class Node:\n",
    "    def __init__(self, data):\n",
    "        self.val = data\n",
    "        self.left = None\n",
    "        self.right = None\n",
    "        self.height = 1\n",
    "\n",
    "def insert(root, key):\n",
    "    if not root:\n",
    "        return Node(key)\n",
    "    if key < root.val:\n",
    "        root.left = insert(root.left, key)\n",
    "    else:\n",
    "        root.right = insert(root.right, key)\n",
    "    \n",
    "    root.height = 1 + max(ght(root.left), ght(root.right)) # ght = get height\n",
    "    BF = getBF(root)  # balancing factor\n",
    "    \n",
    "    # RR Rotation\n",
    "    if BF > 1 and key < root.left.val:\n",
    "        return rightRotate(root)\n",
    "    \n",
    "    # RL Rotation\n",
    "    if BF > 1 and key > root.left.val:\n",
    "        root.left = leftRotate(root.left)\n",
    "        return rightRotate(root)\n",
    "    \n",
    "    # LL Rotation\n",
    "    if BF < -1 and key > root.right.val:\n",
    "        return leftRotate(root)\n",
    "    \n",
    "    # LR Rotation\n",
    "    if BF < -1 and key < root.right.val:\n",
    "        root.right = rightRotate(root.right)\n",
    "        return leftRotate(root)\n",
    "    \n",
    "    return root\n",
    "\n",
    "def ght(root):\n",
    "    if not root:\n",
    "        return 0\n",
    "    return root.height\n",
    "\n",
    "def getBF(root):\n",
    "    if not root:\n",
    "        return 0\n",
    "    return ght(root.left) - ght(root.right)\n",
    "\n",
    "def leftRotate(A):\n",
    "    B = A.right\n",
    "    temp = B.left\n",
    "\n",
    "    B.left = A\n",
    "    A.right = temp\n",
    "\n",
    "    A.height = 1 + max(ght(A.left), ght(A.right))\n",
    "    B.height = 1 + max(ght(B.left), ght(B.right))\n",
    "\n",
    "    return B\n",
    "\n",
    "def rightRotate(A):\n",
    "    B = A.left\n",
    "    temp = B.right\n",
    "\n",
    "    B.right = A\n",
    "    A.left = temp\n",
    "\n",
    "    A.height = 1 + max(ght(A.left), ght(A.right))\n",
    "    B.height = 1 + max(ght(B.left), ght(B.right))\n",
    "\n",
    "    return B\n",
    "\n",
    "def inorder(root):\n",
    "    if not root:\n",
    "        return\n",
    "    inorder(root.left)\n",
    "    print(root.val, end=\" \")\n",
    "    inorder(root.right)\n",
    "\n",
    "if __name__ == \"__main__\":\n",
    "    root = None\n",
    "    \n",
    "    nums = [19,99,75,7,21,34,38,27,134,100,20,0,12,17,144]\n",
    "    \n",
    "    for i in nums:\n",
    "        root = insert(root, i)\n",
    "    \n",
    "    # Inorder Traversal\n",
    "    print(\"Inorder traversal of the constructed AVL tree is:\")\n",
    "    inorder(root)\n",
    "    print()"
   ]
  },
  {
   "cell_type": "markdown",
   "id": "5b973f27-3e01-4d88-9c5e-2004bdba28af",
   "metadata": {},
   "source": [
    "#### Background:\n",
    "In the digital age, numbers are often displayed with thousands separators (commas) for readability. For example, the number 1,000 is easier to read than 1000. But have you ever wondered how many commas are used when printing all the numbers from 1 to 100,000?\n",
    "#### Objective: \n",
    "Your task is to calculate the maximum number of commas used when printing the integers from 1 to 100,000 (inclusive). Assume that each number is printed with the appropriate thousands separator.\n",
    "#### Test case:\n",
    "239,968,987 | 100,323,774,532 | 553,646,223"
   ]
  },
  {
   "cell_type": "code",
   "execution_count": 3,
   "id": "733c1969-83b4-4465-ba01-ff55a0f470ce",
   "metadata": {},
   "outputs": [
    {
     "name": "stdout",
     "output_type": "stream",
     "text": [
      "Enter a number:  1000000\n"
     ]
    },
    {
     "name": "stdout",
     "output_type": "stream",
     "text": [
      "2\n"
     ]
    }
   ],
   "source": [
    "n = int(input(\"Enter a number: \"))\n",
    "if n < 1000:\n",
    "    print(\"Zero commas\")\n",
    "else:\n",
    "    count = (len(str(n)) - 1) // 3\n",
    "    print(count)"
   ]
  },
  {
   "cell_type": "markdown",
   "id": "a0de4cf3-6bb0-4e32-944d-e9625c068ca7",
   "metadata": {},
   "source": [
    "#### Minimum positive number- Leetcode"
   ]
  },
  {
   "cell_type": "code",
   "execution_count": 4,
   "id": "b4de43ba-c11a-4857-95b4-cf9e1cd39697",
   "metadata": {},
   "outputs": [
    {
     "name": "stdout",
     "output_type": "stream",
     "text": [
      " 10,5,4,6,-1,2,1\n"
     ]
    },
    {
     "name": "stdout",
     "output_type": "stream",
     "text": [
      "1\n"
     ]
    }
   ],
   "source": [
    "n=list(map(int,input().split(',')))\n",
    "n.sort()\n",
    "for i in range(len(n)+1):\n",
    "    if n[i]>0:\n",
    "        print(n[i])\n",
    "        break"
   ]
  },
  {
   "cell_type": "markdown",
   "id": "e0b1c9f9-7942-481b-ab80-aab0cce471eb",
   "metadata": {},
   "source": [
    "#### Given an unsorted integer array nums. Return the smallest positive integer that is not present in nums. you must implement an algorithm that runs in O(n) time and uses O(1) auxilary space [first missing ]"
   ]
  },
  {
   "cell_type": "code",
   "execution_count": 5,
   "id": "d2e1c002-2e0a-4c03-8269-0d30e2c92541",
   "metadata": {},
   "outputs": [
    {
     "name": "stdout",
     "output_type": "stream",
     "text": [
      " 5,7,-10,-3,0,3,-5,1\n"
     ]
    },
    {
     "name": "stdout",
     "output_type": "stream",
     "text": [
      "2\n"
     ]
    }
   ],
   "source": [
    "n=list(map(int,input().split(',')))\n",
    "res=1\n",
    "n.sort()\n",
    "for i in n:\n",
    "    if res==i:\n",
    "        res+=1\n",
    "print(res)"
   ]
  },
  {
   "cell_type": "code",
   "execution_count": 7,
   "id": "dbbf313d-dd02-4df7-9ca0-464ab6b4bf36",
   "metadata": {},
   "outputs": [
    {
     "name": "stdout",
     "output_type": "stream",
     "text": [
      "[3, 4, -1, 1]\n",
      "2\n"
     ]
    }
   ],
   "source": [
    "ls= [3,4,-1,1]\n",
    "ran =list(range(1,max(ls)+1))\n",
    "print(ls)\n",
    "for i in ls :\n",
    "    if i in ran:\n",
    "        ran.remove(i)\n",
    "\n",
    "print(ran[0])"
   ]
  },
  {
   "cell_type": "code",
   "execution_count": 1,
   "id": "5bcab8e6-b346-4436-8ba4-9b54617a5b47",
   "metadata": {},
   "outputs": [
    {
     "name": "stdout",
     "output_type": "stream",
     "text": [
      "inf\n",
      "2 4 1\n",
      "(2, 4, 1)\n",
      "(4, 7, 3)\n",
      "(7, 10, 2)\n",
      "(4, 8, 3)\n",
      "(8, 1, 2)\n",
      "(2, 3, 4)\n",
      "(2, 6, 5)\n",
      "(4, 5, 6)\n",
      "(5, 9, 8)\n"
     ]
    }
   ],
   "source": [
    "Graph=[\n",
    "    [0,7,-1,-1,-1,-1,-1,2,-1,-1],\n",
    "    [7,0,4,1,-1,5,-1,-1,-1,-1],\n",
    "    [-1,4,0,-1,-1,-1,-1,8,-1,-1],\n",
    "    [-1,1,-1,0,6,8,3,3,-1,-1],\n",
    "    [-1,-1,-1,6,0,-1,-1,6,8,-1],\n",
    "    [-1,5,-1,8,-1,0,-1,-1,-1,-1],\n",
    "    [-1,-1,-1,3,-1,-1,0,-1,9,2],\n",
    "    [2,-1,8,3,6,-1,-1,0,-1,-1],\n",
    "    [-1,-1,-1,-1,8,-1,9,-1,0,-1],\n",
    "    [-1,-1,-1,-1,-1,-1,2,-1,-1,0]\n",
    "]\n",
    "visited=[False]*len(Graph)\n",
    "min=float('inf')\n",
    "x=y=-1\n",
    "print(min)\n",
    "for i in range(len(Graph)):\n",
    "    for j in range(len(Graph)):\n",
    "        if Graph[i][j]==0 or Graph[i][j]==-1:\n",
    "            continue\n",
    "        elif min>Graph[i][j]:     \n",
    "            min=Graph[i][j]\n",
    "            x=i\n",
    "            y=j\n",
    "print(x+1,y+1,min)\n",
    "visited[x]=True\n",
    "visited[y]=True\n",
    "mst=[]\n",
    "mst.append(tuple((x+1,y+1,min)))\n",
    "\n",
    "\n",
    "while False in visited:\n",
    "    min=float('inf')\n",
    "    for i in range(len(visited)):\n",
    "        if visited[i]==True:\n",
    "            for j in range(len(Graph)):\n",
    "                if Graph[i][j]==0 or Graph[i][j]==-1 or visited[j]==True:\n",
    "                    continue\n",
    "                elif min>Graph[i][j]:\n",
    "                    min=Graph[i][j]\n",
    "                    x=i\n",
    "                    y=j\n",
    "    visited[y]=True\n",
    "    mst.append(tuple((x+1,y+1,min)))\n",
    "    \n",
    "for i in mst:\n",
    "    print(i)"
   ]
  },
  {
   "cell_type": "code",
   "execution_count": 2,
   "id": "b3bba17c",
   "metadata": {},
   "outputs": [
    {
     "name": "stdout",
     "output_type": "stream",
     "text": [
      "Graph:\n",
      "[0, 7, -1, -1, -1, -1, -1, 2, -1, -1]\n",
      "[7, 0, 4, 1, -1, 5, -1, -1, -1, -1]\n",
      "[-1, 4, 0, -1, -1, -1, -1, 8, -1, -1]\n",
      "[-1, 1, -1, 0, 6, 8, 3, 3, -1, -1]\n",
      "[-1, -1, -1, 6, 0, -1, -1, 6, 8, -1]\n",
      "[-1, 5, -1, 8, -1, 0, -1, -1, -1, -1]\n",
      "[-1, -1, -1, 3, -1, -1, 0, -1, 9, 2]\n",
      "[2, -1, 8, 3, 6, -1, -1, 0, -1, -1]\n",
      "[-1, -1, -1, -1, 8, -1, 9, -1, 0, -1]\n",
      "[-1, -1, -1, -1, -1, -1, 2, -1, -1, 0]\n",
      "\n",
      "Minimum Spanning Tree: [(4, 2, 1), (2, 3, 4), (8, 4, 3), (8, 5, 6), (2, 6, 5), (4, 7, 3), (1, 8, 2), (5, 9, 8), (7, 10, 2)]\n"
     ]
    }
   ],
   "source": [
    "# Alternate\n",
    "\n",
    "vertices = 10\n",
    "graph = [[0 if i == j else -1 for j in range(vertices)] for i in range(vertices)]\n",
    "\n",
    "g = {\n",
    "    1: [(2, 7), (8, 2)],\n",
    "    2: [(3, 4), (1, 7), (4, 1), (6, 5)],\n",
    "    3: [(2, 4), (8, 8)],\n",
    "    4: [(6, 8), (2, 1), (8, 3), (5, 6), (7, 3)],\n",
    "    5: [(8, 6), (4, 6), (9, 8)],\n",
    "    6: [(2, 5), (4, 8)],\n",
    "    7: [(4, 3), (9, 9), (10, 2)],\n",
    "    8: [(3, 8), (4, 3), (5, 6)],\n",
    "    9: [(5, 8), (7, 9)],\n",
    "    10: [(7, 2)]\n",
    "}\n",
    "\n",
    "for node, edges in g.items():\n",
    "    for edge in edges:\n",
    "        to_node, weight = edge\n",
    "        graph[node-1][to_node-1] = weight\n",
    "        graph[to_node-1][node-1] = weight\n",
    "\n",
    "print(\"Graph:\")\n",
    "for row in graph:\n",
    "    print(row)\n",
    "\n",
    "def prim(graph, start):\n",
    "    mst = []\n",
    "    vis = [False] * len(graph)\n",
    "    max_val = float('inf')\n",
    "    min_edge = [max_val] * len(graph)\n",
    "    parent = [-1] * len(graph)\n",
    "    min_edge[start] = 0\n",
    "\n",
    "    for _ in range(len(graph)):\n",
    "        min_weight = max_val\n",
    "        u = -1\n",
    "        for v in range(len(graph)):\n",
    "            if not vis[v] and min_edge[v] < min_weight:\n",
    "                min_weight = min_edge[v]\n",
    "                u = v\n",
    "        \n",
    "        if u == -1:\n",
    "            break\n",
    "\n",
    "        vis[u] = True\n",
    "\n",
    "        for v in range(len(graph)):\n",
    "            if graph[u][v] != -1 and not vis[v] and graph[u][v] < min_edge[v]:\n",
    "                min_edge[v] = graph[u][v]\n",
    "                parent[v] = u\n",
    "\n",
    "    for v in range(1, len(graph)):\n",
    "        if parent[v] != -1:\n",
    "            mst.append((parent[v] + 1, v + 1, graph[v][parent[v]]))\n",
    "\n",
    "    return mst\n",
    "\n",
    "mst = prim(graph, 0)\n",
    "print(\"\\nMinimum Spanning Tree:\", mst)"
   ]
  },
  {
   "cell_type": "code",
   "execution_count": 3,
   "id": "a9ada0c0",
   "metadata": {},
   "outputs": [
    {
     "name": "stdout",
     "output_type": "stream",
     "text": [
      "inf\n",
      "2 4 1\n",
      "(2, 4, 1)\n",
      "(1, 8, 2)\n",
      "(7, 10, 2)\n",
      "(8, 1, 2)\n",
      "(10, 7, 2)\n",
      "(2, 3, 4)\n",
      "(2, 6, 5)\n",
      "(4, 5, 6)\n",
      "(5, 9, 8)\n"
     ]
    }
   ],
   "source": [
    "Graph=[\n",
    "    [0,7,-1,-1,-1,-1,-1,2,-1,-1],\n",
    "    [7,0,4,1,-1,5,-1,-1,-1,-1],\n",
    "    [-1,4,0,-1,-1,-1,-1,8,-1,-1],\n",
    "    [-1,1,-1,0,6,8,3,3,-1,-1],\n",
    "    [-1,-1,-1,6,0,-1,-1,6,8,-1],\n",
    "    [-1,5,-1,8,-1,0,-1,-1,-1,-1],\n",
    "    [-1,-1,-1,3,-1,-1,0,-1,9,2],\n",
    "    [2,-1,8,3,6,-1,-1,0,-1,-1],\n",
    "    [-1,-1,-1,-1,8,-1,9,-1,0,-1],\n",
    "    [-1,-1,-1,-1,-1,-1,2,-1,-1,0]\n",
    "]\n",
    "visited=[False]*len(Graph)\n",
    "min=float('inf')\n",
    "x=y=-1\n",
    "print(min)\n",
    "for i in range(len(Graph)):\n",
    "    for j in range(len(Graph)):\n",
    "        if Graph[i][j]==0 or Graph[i][j]==-1:\n",
    "            continue\n",
    "        elif min>Graph[i][j]:     \n",
    "            min=Graph[i][j]\n",
    "            x=i\n",
    "            y=j\n",
    "print(x+1,y+1,min)\n",
    "visited[x]=True\n",
    "visited[y]=True\n",
    "mst=[]\n",
    "mst.append(tuple((x+1,y+1,min)))\n",
    "\n",
    "\n",
    "while False in visited:\n",
    "    min=float('inf')\n",
    "    for i in range(len(visited)):\n",
    "        #if visited[i]==True:\n",
    "        for j in range(len(Graph)):\n",
    "            if Graph[i][j]==0 or Graph[i][j]==-1 or visited[j]==True:\n",
    "                continue\n",
    "            elif min>Graph[i][j]:\n",
    "                min=Graph[i][j]\n",
    "                x=i\n",
    "                y=j\n",
    "    visited[y]=True\n",
    "    mst.append(tuple((x+1,y+1,min)))\n",
    "    \n",
    "for i in mst:\n",
    "    print(i)"
   ]
  },
  {
   "cell_type": "code",
   "execution_count": null,
   "id": "99073b22",
   "metadata": {},
   "outputs": [],
   "source": []
  }
 ],
 "metadata": {
  "kernelspec": {
   "display_name": "Python 3 (ipykernel)",
   "language": "python",
   "name": "python3"
  },
  "language_info": {
   "codemirror_mode": {
    "name": "ipython",
    "version": 3
   },
   "file_extension": ".py",
   "mimetype": "text/x-python",
   "name": "python",
   "nbconvert_exporter": "python",
   "pygments_lexer": "ipython3",
   "version": "3.11.5"
  }
 },
 "nbformat": 4,
 "nbformat_minor": 5
}
