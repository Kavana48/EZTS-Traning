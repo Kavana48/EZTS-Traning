{
 "cells": [
  {
   "cell_type": "code",
   "execution_count": 1,
   "id": "a48d1971-0a80-43d5-a1ee-cb456b434f4f",
   "metadata": {},
   "outputs": [],
   "source": [
    "l=[[1,2,0],[1,3,0],[3,1,0],[3,6,0],[3,5,0],[2,1,0],[2,7,0],[6,3,0]]\n"
   ]
  },
  {
   "cell_type": "code",
   "execution_count": null,
   "id": "7a78835d-5b4d-4a5f-92d0-42adcd54e134",
   "metadata": {},
   "outputs": [],
   "source": [
    "1:[(1,2,0),(1,3,0)]\n",
    "2:[(2,1,0),(2,5,0)]\n",
    "5:[(5,7,0),(5,10,0),(5,13,0)]\n",
    "7:[(7,6,0),(7,8,0),(7,9,0)]\n",
    "6:[(6,3,0),(6,7,0)]\n",
    "3:[(3,4,0),(3,6,0)]\n",
    "4:[(4,3,0)]\n",
    "8:[(8,7,0)]\n",
    "9:[(9,7,0),(9,12,0)]\n",
    "12:[(12,9,0),(12,13,0)]\n",
    "13:[(13,12,0),(13,5,0)]\n",
    "\n"
   ]
  },
  {
   "cell_type": "code",
   "execution_count": 41,
   "id": "7a92080d-d644-4f9b-a7e8-ceb7e6437edb",
   "metadata": {},
   "outputs": [
    {
     "name": "stdout",
     "output_type": "stream",
     "text": [
      "Result: \n",
      "4 3 6 8 13 12 9 7 11 10 5 2 1 "
     ]
    }
   ],
   "source": [
    "# DFS\n",
    "def DFS(G,V,S,E):\n",
    "  if V[E]==False:\n",
    "    V[E]=True\n",
    "    S.append(E)\n",
    "  else:\n",
    "    return\n",
    "  for i in G[E]:\n",
    "      DFS(G,V,S,i[1])\n",
    "  \n",
    "  print(S.pop(),end=\" \")\n",
    "\n",
    "\n",
    "\n",
    "G = {\n",
    "    1: [(1, 2, 0), (1, 3, 0)],\n",
    "    2: [(2, 1, 0), (2, 5, 0)],\n",
    "    3: [(3, 4, 0), (3, 6, 0)],\n",
    "    4: [(4, 3, 0)],\n",
    "    5: [(5, 2, 0), (5, 7, 0), (5, 10, 0), (5, 13, 0)],\n",
    "    6: [(6, 3, 0), (6, 7, 0)],\n",
    "    7: [(7, 5, 0), (7, 6, 0), (7, 8, 0), (7, 9, 0)],\n",
    "    8: [(8, 7, 0)],\n",
    "    9: [(9, 7, 0), (9, 12, 0)],\n",
    "    10: [(10, 5, 0), (10, 11, 0)],\n",
    "    11: [(11, 10, 0)],\n",
    "    12: [(12, 9, 0), (12, 13, 0)],\n",
    "    13: [(13, 5, 0), (13, 12, 0)]\n",
    "}\n",
    "\n",
    "\n",
    "\n",
    "V={}\n",
    "for i in G.keys():\n",
    "  V[i]=False\n",
    "  \n",
    "S=[]\n",
    "\n",
    "\n",
    "print(\"Result: \")\n",
    "DFS(G,V,S,1)"
   ]
  },
  {
   "cell_type": "code",
   "execution_count": 43,
   "id": "8048ecf3-363f-405b-9f79-dc2142d37542",
   "metadata": {},
   "outputs": [
    {
     "name": "stdout",
     "output_type": "stream",
     "text": [
      "1\n",
      "3\n",
      "6\n",
      "7\n",
      "9\n",
      "12\n",
      "13\n",
      "8\n",
      "5\n",
      "10\n",
      "11\n",
      "4\n",
      "2\n"
     ]
    }
   ],
   "source": [
    "#BFS\n",
    "def BFS(G,e):\n",
    "    Q=[e]\n",
    "    V={}\n",
    "    for i in G.keys():\n",
    "        V[i]=False\n",
    "    V[e]=True\n",
    "    while len(Q)!=0:\n",
    "        curr=Q.pop()\n",
    "        print(curr)\n",
    "        for i in G[curr]:\n",
    "            if V[i[1]]==False:\n",
    "                Q.append(i[1])\n",
    "                V[i[1]]=True\n",
    "\n",
    "G = {\n",
    "    1: [(1, 2, 0), (1, 3, 0)],\n",
    "    2: [(2, 1, 0), (2, 5, 0)],\n",
    "    3: [(3, 4, 0), (3, 6, 0)],\n",
    "    4: [(4, 3, 0)],\n",
    "    5: [(5, 2, 0), (5, 7, 0), (5, 10, 0), (5, 13, 0)],\n",
    "    6: [(6, 3, 0), (6, 7, 0)],\n",
    "    7: [(7, 5, 0), (7, 6, 0), (7, 8, 0), (7, 9, 0)],\n",
    "    8: [(8, 7, 0)],\n",
    "    9: [(9, 7, 0), (9, 12, 0)],\n",
    "    10: [(10, 5, 0), (10, 11, 0)],\n",
    "    11: [(11, 10, 0)],\n",
    "    12: [(12, 9, 0), (12, 13, 0)],\n",
    "    13: [(13, 5, 0), (13, 12, 0)]\n",
    "}\n",
    "BFS(G,1)     "
   ]
  },
  {
   "cell_type": "markdown",
   "id": "84d2b68f-8a45-4c15-a85f-8c53b7193a05",
   "metadata": {},
   "source": [
    "### AVL trees\n"
   ]
  },
  {
   "cell_type": "code",
   "execution_count": null,
   "id": "4eb059f7-6671-408e-9e77-6752862ceaa8",
   "metadata": {},
   "outputs": [],
   "source": [
    "list=[4,6,7,3,8,2,5,9,1]\n",
    "root=node(4)\n",
    "for i in list:\n",
    "    insertBST(i,root)\n",
    "BST(value,root)\n",
    "if root==None:\n",
    "    root=node(value)\n",
    "if root<value:\n",
    "    insertBST(value,root.left)\n",
    "if root>value:\n",
    "    insertBST(value,root.right)"
   ]
  },
  {
   "cell_type": "code",
   "execution_count": 1,
   "id": "18615db8-8529-416f-b703-2d6d4af8cd10",
   "metadata": {},
   "outputs": [
    {
     "name": "stdout",
     "output_type": "stream",
     "text": [
      "Inorder traversal of the BST:\n",
      "1 2 3 4 5 6 7 8 9 \n",
      "Preorder traversal of the BST:\n",
      "4 3 2 1 6 5 7 8 9 \n",
      "Postorder traversal of the BST:\n",
      "1 2 3 5 9 8 7 6 4 "
     ]
    }
   ],
   "source": [
    "class Node:\n",
    "    def __init__(self, value):\n",
    "        self.left = None\n",
    "        self.right = None\n",
    "        self.val = value\n",
    "\n",
    "def insertBST(root, value):\n",
    "    if root is None:\n",
    "        return Node(value)\n",
    "    if value < root.val:\n",
    "        root.left = insertBST(root.left, value)\n",
    "    else:\n",
    "        root.right = insertBST(root.right, value)\n",
    "    return root\n",
    "\n",
    "def inorderTraversal(root):\n",
    "    if root:\n",
    "        inorderTraversal(root.left)\n",
    "        print(root.val, end=' ')\n",
    "        inorderTraversal(root.right)\n",
    "\n",
    "def preorderTraversal(root):\n",
    "    if root:\n",
    "        print(root.val, end=' ')\n",
    "        preorderTraversal(root.left)\n",
    "        preorderTraversal(root.right)\n",
    "\n",
    "def postorderTraversal(root):\n",
    "    if root:\n",
    "        postorderTraversal(root.left)\n",
    "        postorderTraversal(root.right)\n",
    "        print(root.val, end=' ')\n",
    "        \n",
    "list = [4, 6, 7, 3, 8, 2, 5, 9, 1]\n",
    "root = Node(list[0])\n",
    "\n",
    "for value in list[1:]:\n",
    "    insertBST(root, value)\n",
    "\n",
    "print(\"Inorder traversal of the BST:\")\n",
    "inorderTraversal(root)\n",
    "print(\"\\nPreorder traversal of the BST:\")\n",
    "preorderTraversal(root)\n",
    "print(\"\\nPostorder traversal of the BST:\")\n",
    "postorderTraversal(root)"
   ]
  },
  {
   "cell_type": "code",
   "execution_count": null,
   "id": "9e257162-6871-42f9-904b-0956f4da5d32",
   "metadata": {},
   "outputs": [],
   "source": []
  }
 ],
 "metadata": {
  "kernelspec": {
   "display_name": "Python 3 (ipykernel)",
   "language": "python",
   "name": "python3"
  },
  "language_info": {
   "codemirror_mode": {
    "name": "ipython",
    "version": 3
   },
   "file_extension": ".py",
   "mimetype": "text/x-python",
   "name": "python",
   "nbconvert_exporter": "python",
   "pygments_lexer": "ipython3",
   "version": "3.11.5"
  }
 },
 "nbformat": 4,
 "nbformat_minor": 5
}
