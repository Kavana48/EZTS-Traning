{
 "cells": [
  {
   "cell_type": "markdown",
   "id": "c49405d3-7b87-4b5f-9989-c439690eac9c",
   "metadata": {},
   "source": [
    "### Knapsack Problem\n"
   ]
  },
  {
   "cell_type": "code",
   "execution_count": 13,
   "id": "36e7adb2-5513-478d-bf77-39f89d31edb9",
   "metadata": {},
   "outputs": [
    {
     "name": "stdin",
     "output_type": "stream",
     "text": [
      "Enter the number of items:  5\n",
      "Enter the total capacity of the knapsack:  30\n"
     ]
    },
    {
     "name": "stdout",
     "output_type": "stream",
     "text": [
      "Enter the profit and weight for 5 items:\n"
     ]
    },
    {
     "name": "stdin",
     "output_type": "stream",
     "text": [
      " 12 5\n",
      " 24 6\n",
      " 8 10\n",
      " 20 8\n",
      " 10 3\n"
     ]
    },
    {
     "name": "stdout",
     "output_type": "stream",
     "text": [
      "The maximum profit is = 72.4\n"
     ]
    }
   ],
   "source": [
    "def comp_item(item):\n",
    "    return item[0] / item[1]\n",
    "\n",
    "def fractional_knapsack(items, capacity):\n",
    "    items.sort(key=comp_item, reverse=True)\n",
    "    profit = 0\n",
    "    for profit_i, weight_i in items:\n",
    "        if weight_i <= capacity:\n",
    "            capacity -= weight_i\n",
    "            profit += profit_i\n",
    "        else:\n",
    "            profit += (capacity / weight_i) * profit_i\n",
    "            capacity = 0\n",
    "            break\n",
    "    return profit\n",
    "\n",
    "def main():\n",
    "    n = int(input(\"Enter the number of items: \"))\n",
    "    capacity = float(input(\"Enter the total capacity of the knapsack: \"))\n",
    "    items = []\n",
    "    print(f\"Enter the profit and weight for {n} items:\")\n",
    "    for _ in range(n):\n",
    "        profit, weight = map(float, input().split())\n",
    "        items.append((profit, weight))\n",
    "    max_profit = fractional_knapsack(items, capacity)\n",
    "    print(f\"The maximum profit is = {max_profit}\")\n",
    "\n",
    "if __name__ == \"__main__\":\n",
    "    main()\n",
    "    "
   ]
  },
  {
   "cell_type": "markdown",
   "id": "172b94ee-6b27-4e75-a488-92d7411fdcac",
   "metadata": {},
   "source": [
    "### Job Sequencing"
   ]
  },
  {
   "cell_type": "code",
   "execution_count": 3,
   "id": "7bf0d501-d1cc-4678-a37f-cad2bf45389b",
   "metadata": {},
   "outputs": [
    {
     "name": "stdin",
     "output_type": "stream",
     "text": [
      " 5 10 15 7 8 9 4\n",
      " 1 3 5 4 1 3 2\n",
      " 15\n"
     ]
    },
    {
     "name": "stdout",
     "output_type": "stream",
     "text": [
      "51.0\n"
     ]
    }
   ],
   "source": [
    "##Greedy Algorithm\n",
    "price=list(map(float,input().split()))\n",
    "weight=list(map(float,input().split()))\n",
    "profit=0\n",
    "ratio_list=[]\n",
    "max_weight=int(input())\n",
    "for i in range(len(price)):\n",
    "    ratio_list.append(price[i]/weight[i])\n",
    "while max_weight>0:\n",
    "    index=ratio_list.index(max(ratio_list))\n",
    "    max_weight-=weight[index]\n",
    "    profit+=price[index]\n",
    "    ratio_list.pop(index)\n",
    "    price.pop(index)\n",
    "    weight.pop(index)\n",
    "\n",
    "print(profit)\n",
    "          "
   ]
  },
  {
   "cell_type": "code",
   "execution_count": 4,
   "id": "4dde52bf-3174-46f0-a0b2-4168f652c848",
   "metadata": {},
   "outputs": [
    {
     "name": "stdout",
     "output_type": "stream",
     "text": [
      "{0: 5.0, 1: 3.3333333333333335, 2: 3.0, 3: 1.75, 4: 8.0, 5: 3.0, 6: 2.0}\n",
      "[(0, 5.0), (1, 3.3333333333333335), (2, 3.0), (3, 1.75), (4, 8.0), (5, 3.0), (6, 2.0)]\n"
     ]
    }
   ],
   "source": [
    "P=[5,10,15,7,8,9,4]\n",
    "W=[1,3,5,4,1,3,2]\n",
    "P_W={}\n",
    "for i in range(len(P)):\n",
    "    P_W[i]=P[i]/W[i]\n",
    "\n",
    "print(P_W)\n",
    "\n",
    "L=list(P_W.items())\n",
    "\n",
    "sorted_List=sorted(key=L.item[1],reverse=True)\n",
    "\n",
    "print(L)"
   ]
  },
  {
   "cell_type": "code",
   "execution_count": 8,
   "id": "e627fc44-15a6-48e7-8cba-0d7fc5378299",
   "metadata": {},
   "outputs": [
    {
     "data": {
      "text/plain": [
       "51"
      ]
     },
     "execution_count": 8,
     "metadata": {},
     "output_type": "execute_result"
    }
   ],
   "source": [
    "def calc_max(p,w,c,n):\n",
    "    if n==0 or c==0:\n",
    "        return 0\n",
    "    if (w[n-1]>c):\n",
    "        return calc_max(p,w,c,n-1)\n",
    "    else:\n",
    "        return max(p[n-1]+calc_max(p,w,c-w[n-1],n-1),calc_max(p,w,c,n-1))\n",
    "\n",
    "p=[5,10,15,7,8,9,4]\n",
    "w=[1,3,5,4,1,3,2]\n",
    "c=15\n",
    "n=len(p)\n",
    "calc_max(p,w,c,n)"
   ]
  },
  {
   "cell_type": "code",
   "execution_count": 10,
   "id": "83c86046-b69f-439b-a131-74c2e692874e",
   "metadata": {},
   "outputs": [
    {
     "name": "stdout",
     "output_type": "stream",
     "text": [
      "51\n",
      "[[-1, -1, -1, -1, -1, -1, -1, -1, -1, -1, -1, -1, -1, -1, -1, -1], [-1, 5, 5, 5, 5, 5, 5, 5, 5, 5, 5, 5, 5, 5, 5, 5], [-1, 5, 5, 10, 15, 15, 15, 15, 15, 15, 15, 15, 15, 15, 15, 15], [-1, -1, -1, -1, -1, 15, 20, 20, 25, 30, 30, 30, 30, 30, 30, 30], [-1, -1, -1, -1, -1, -1, -1, -1, -1, 30, 30, 30, 32, 37, 37, 37], [-1, -1, -1, -1, -1, -1, -1, -1, -1, -1, 38, -1, 38, 40, -1, 45], [-1, -1, -1, -1, -1, -1, -1, -1, -1, -1, -1, -1, -1, 47, -1, 47], [-1, -1, -1, -1, -1, -1, -1, -1, -1, -1, -1, -1, -1, -1, -1, 51]]\n"
     ]
    }
   ],
   "source": [
    "def calc_max(p,w,c,n):\n",
    "    if n==0 or c==0:\n",
    "        return 0\n",
    "    if DP[n][c]!=-1:\n",
    "        return DP[n][c]\n",
    "    if (w[n-1]<=c):\n",
    "        DP[n][c]=max(p[n-1]+calc_max(p,w,c-w[n-1],n-1),calc_max(p,w,c,n-1))\n",
    "        return DP[n][c]\n",
    "    else:\n",
    "        DP[n][c]=calc_max(p,w,c,n-1)\n",
    "        return DP[n][c]\n",
    "   \n",
    "p=[5,10,15,7,8,9,4]\n",
    "w=[1,3,5,4,1,3,2]\n",
    "c=15\n",
    "n=len(p)\n",
    "DP=[[-1 for i in range(c+1)] for j in range(n+1)]\n",
    "\n",
    "print(calc_max(p,w,c,n))\n",
    "print(DP)"
   ]
  },
  {
   "cell_type": "code",
   "execution_count": 1,
   "id": "f758e46c-1cc8-4762-9a97-259947fec4cb",
   "metadata": {},
   "outputs": [
    {
     "name": "stdout",
     "output_type": "stream",
     "text": [
      "[[0, 0, 4, 4, 4, 4, 4, 4, 4, 4, 4, 4, 4, 4, 4, 4], [0, 5, 5, 9, 9, 9, 9, 9, 9, 9, 9, 9, 9, 9, 9, 9], [0, 5, 5, 10, 15, 15, 19, 19, 19, 19, 19, 19, 19, 19, 19, 19], [0, 5, 5, 10, 15, 15, 20, 20, 25, 30, 30, 34, 34, 34, 34, 34], [0, 5, 5, 10, 15, 15, 20, 20, 25, 30, 30, 34, 34, 37, 37, 41], [0, 8, 13, 13, 18, 23, 23, 28, 28, 33, 38, 38, 42, 42, 45, 45], [0, 8, 13, 13, 18, 23, 23, 28, 32, 33, 38, 38, 42, 47, 47, 51], [0, 0, 0, 0, 0, 0, 0, 0, 0, 0, 0, 0, 0, 0, 0, 0]]\n",
      "51\n"
     ]
    }
   ],
   "source": [
    "p=[5,10,15,7,8,9,4]\n",
    "w=[1,3,5,4,1,3,2] \n",
    "c=15 \n",
    "n=len(p) \n",
    "DP=[[0 for i in range(c+1)] for j in range(n+1)] \n",
    "for i in range(n): \n",
    "    for c in range(c+1): \n",
    "        if i==0 or c==0: \n",
    "            DP[i][c]=0 \n",
    "        if c-w[i-1]<0: \n",
    "            DP[i][c]=DP[i-1][c]\n",
    "        else: \n",
    "            DP[i][c]=max(DP[i-1][c], p[i-1]+DP[i-1][c-w[i-1]])\n",
    "\n",
    "print(DP)\n",
    "print(DP[i][c])"
   ]
  },
  {
   "cell_type": "code",
   "execution_count": null,
   "id": "ecac57fa-63ac-4921-8717-7ef8c150da80",
   "metadata": {},
   "outputs": [],
   "source": []
  }
 ],
 "metadata": {
  "kernelspec": {
   "display_name": "Python 3 (ipykernel)",
   "language": "python",
   "name": "python3"
  },
  "language_info": {
   "codemirror_mode": {
    "name": "ipython",
    "version": 3
   },
   "file_extension": ".py",
   "mimetype": "text/x-python",
   "name": "python",
   "nbconvert_exporter": "python",
   "pygments_lexer": "ipython3",
   "version": "3.11.5"
  }
 },
 "nbformat": 4,
 "nbformat_minor": 5
}
