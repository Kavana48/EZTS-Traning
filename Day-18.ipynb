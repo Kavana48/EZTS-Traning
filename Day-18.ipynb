{
 "cells": [
  {
   "cell_type": "markdown",
   "id": "61fe0746-de5e-410b-961b-d0dc590d4d96",
   "metadata": {},
   "source": [
    "### 29/06/24"
   ]
  },
  {
   "cell_type": "markdown",
   "id": "cc6e88a7-58bd-4837-b114-7dbb28153b76",
   "metadata": {},
   "source": [
    "### Hashing"
   ]
  },
  {
   "cell_type": "code",
   "execution_count": 5,
   "id": "8627cfff-b01b-4025-8ffc-bbadca70a743",
   "metadata": {},
   "outputs": [
    {
     "name": "stdout",
     "output_type": "stream",
     "text": [
      "1\n",
      "2\n",
      "3\n",
      "KeyError: 'banana'\n"
     ]
    }
   ],
   "source": [
    "class Node:\n",
    "    def __init__(self, key, value):\n",
    "        self.key = key\n",
    "        self.value = value\n",
    "        self.next = None\n",
    "class HashTable:\n",
    "    def __init__(self, size):\n",
    "        self.size = size\n",
    "        self.buckets = [None] * size\n",
    "\n",
    "    def hash(self, key):\n",
    "        return hash(key) % self.size\n",
    "\n",
    "    def set(self, key, value):\n",
    "        index = self.hash(key)\n",
    "        if self.buckets[index] is None:\n",
    "            self.buckets[index] = Node(key, value)\n",
    "        else:\n",
    "            current = self.buckets[index]\n",
    "            while True:\n",
    "                if current.key == key:\n",
    "                    current.value = value\n",
    "                    return\n",
    "                if current.next is None:\n",
    "                    current.next = Node(key, value)\n",
    "                    return\n",
    "                current = current.next\n",
    "\n",
    "    def get(self, key):\n",
    "        index = self.hash(key)\n",
    "        current = self.buckets[index]\n",
    "        while current:\n",
    "            if current.key == key:\n",
    "                return current.value\n",
    "            current = current.next\n",
    "        raise KeyError(key)\n",
    "\n",
    "    def delete(self, key):\n",
    "        index = self.hash(key)\n",
    "        current = self.buckets[index]\n",
    "        prev = None\n",
    "        while current:\n",
    "            if current.key == key:\n",
    "                if prev:\n",
    "                    prev.next = current.next\n",
    "                else:\n",
    "                    self.buckets[index] = current.next\n",
    "                return\n",
    "            prev = current\n",
    "            current = current.next\n",
    "        raise KeyError(key)\n",
    "hash_table = HashTable(10)\n",
    "hash_table.set('apple', 1)\n",
    "hash_table.set('banana', 2)\n",
    "hash_table.set('cherry', 3)\n",
    "\n",
    "print(hash_table.get('apple'))  \n",
    "print(hash_table.get('banana')) \n",
    "print(hash_table.get('cherry')) \n",
    "\n",
    "hash_table.delete('banana')\n",
    "try:\n",
    "    print(hash_table.get('banana'))\n",
    "except KeyError:\n",
    "    print(\"KeyError: 'banana'\") \n"
   ]
  },
  {
   "cell_type": "markdown",
   "id": "37862ab3-d297-4f72-9595-7e12aec43ac0",
   "metadata": {},
   "source": [
    "#### Double Hashing with Linked List"
   ]
  },
  {
   "cell_type": "code",
   "execution_count": 8,
   "id": "c946c8de-783d-4252-bce6-cd7cf0938e49",
   "metadata": {},
   "outputs": [
    {
     "name": "stdout",
     "output_type": "stream",
     "text": [
      "1\n",
      "2\n",
      "3\n",
      "KeyError: 'banana'\n"
     ]
    }
   ],
   "source": [
    "class Node:\n",
    "    def __init__(self, key, value):\n",
    "        self.key = key\n",
    "        self.value = value\n",
    "        self.next = None\n",
    "class HashTable:\n",
    "    def __init__(self, size):\n",
    "        self.size = size\n",
    "        self.buckets = [None] * size\n",
    "\n",
    "    def hash1(self, key):\n",
    "        return hash(key) % self.size\n",
    "\n",
    "    def hash2(self, key):\n",
    "        return 1 + (hash(key) % (self.size - 1))\n",
    "\n",
    "    def set(self, key, value):\n",
    "        index = self.hash1(key)\n",
    "        step = self.hash2(key)\n",
    "        while self.buckets[index] is not None:\n",
    "            if self.buckets[index].key == key:\n",
    "                self.buckets[index].value = value\n",
    "                return\n",
    "            index = (index + step) % self.size\n",
    "        self.buckets[index] = Node(key, value)\n",
    "\n",
    "    def get(self, key):\n",
    "        index = self.hash1(key)\n",
    "        step = self.hash2(key)\n",
    "        while self.buckets[index] is not None:\n",
    "            if self.buckets[index].key == key:\n",
    "                return self.buckets[index].value\n",
    "            index = (index + step) % self.size\n",
    "        raise KeyError(key)\n",
    "\n",
    "    def delete(self, key):\n",
    "        index = self.hash1(key)\n",
    "        step = self.hash2(key)\n",
    "        prev = None\n",
    "        while self.buckets[index] is not None:\n",
    "            if self.buckets[index].key == key:\n",
    "                if prev:\n",
    "                    prev.next = self.buckets[index].next\n",
    "                else:\n",
    "                    self.buckets[index] = self.buckets[index].next\n",
    "                return\n",
    "            prev = self.buckets[index]\n",
    "            index = (index + step) % self.size\n",
    "        raise KeyError(key)\n",
    "hash_table = HashTable(10)\n",
    "hash_table.set('apple', 1)\n",
    "hash_table.set('banana', 2)\n",
    "hash_table.set('cherry', 3)\n",
    "\n",
    "print(hash_table.get('apple'))  \n",
    "print(hash_table.get('banana'))  \n",
    "print(hash_table.get('cherry'))  \n",
    "\n",
    "hash_table.delete('banana')\n",
    "try:\n",
    "    print(hash_table.get('banana'))\n",
    "except KeyError:\n",
    "    print(\"KeyError: 'banana'\")"
   ]
  },
  {
   "cell_type": "code",
   "execution_count": null,
   "id": "b4c5ad09-7c49-4014-90f4-f0ca6982ebbe",
   "metadata": {},
   "outputs": [],
   "source": []
  }
 ],
 "metadata": {
  "kernelspec": {
   "display_name": "Python 3 (ipykernel)",
   "language": "python",
   "name": "python3"
  },
  "language_info": {
   "codemirror_mode": {
    "name": "ipython",
    "version": 3
   },
   "file_extension": ".py",
   "mimetype": "text/x-python",
   "name": "python",
   "nbconvert_exporter": "python",
   "pygments_lexer": "ipython3",
   "version": "3.11.7"
  }
 },
 "nbformat": 4,
 "nbformat_minor": 5
}
