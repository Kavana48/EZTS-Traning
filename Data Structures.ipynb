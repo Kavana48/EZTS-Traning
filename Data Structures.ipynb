{
 "cells": [
  {
   "cell_type": "code",
   "execution_count": 1,
   "id": "6884e6af-b758-49ac-9738-e2f1aeb96929",
   "metadata": {},
   "outputs": [
    {
     "data": {
      "text/plain": [
       "10"
      ]
     },
     "execution_count": 1,
     "metadata": {},
     "output_type": "execute_result"
    }
   ],
   "source": [
    "class Stack:\n",
    "    def __init__(self):\n",
    "        self.items = []  \n",
    "    def push(self, data):\n",
    "        self.items.append(data) \n",
    "    def pop(self):\n",
    "        if self.items: \n",
    "            return self.items.pop()\n",
    "        return None  \n",
    "    def size(self):\n",
    "        return len(self.items)\n",
    "\n",
    "s = Stack() \n",
    "s.push(20)\n",
    "s.push(10)\n",
    "s.pop()"
   ]
  },
  {
   "cell_type": "markdown",
   "id": "68e83e41-4674-4774-849d-6aff8b7ae354",
   "metadata": {},
   "source": [
    "#### A student is given a task to create some mathematical expression for BODMAS but due to some other work he forget to do that but in the night he clicked that he have to create some expressions for BODMAS due to sleepy mood he did some mistake while putting the brackets. Your job is to check whether the expression given by that boy is valid or not. Sample input:[3+7{52/11(3+5)}] valid expression as all braclets are properly opened and closed. [4-6{235(9+6)] invalid expression as some brackets are not proper"
   ]
  },
  {
   "cell_type": "code",
   "execution_count": 4,
   "id": "036c72c9-4d28-470c-a92f-e16dac9d2d24",
   "metadata": {},
   "outputs": [
    {
     "name": "stdin",
     "output_type": "stream",
     "text": [
      "Enter the mathematical expression:  [3+7{52/11(3+5)}]\n"
     ]
    },
    {
     "name": "stdout",
     "output_type": "stream",
     "text": [
      "The expression is valid.\n"
     ]
    }
   ],
   "source": [
    "def is_valid_expression(exp):\n",
    "    matching_brackets = {')': '(', '}': '{', ']': '['}\n",
    "    stack = []\n",
    "\n",
    "    for char in exp:\n",
    "        if char in matching_brackets.values():\n",
    "            stack.append(char)\n",
    "        elif char in matching_brackets.keys():\n",
    "            if not stack or matching_brackets[char] != stack.pop():\n",
    "                return False\n",
    "    return not stack\n",
    "exp = input(\"Enter the mathematical expression: \")\n",
    "if is_valid_expression(exp):\n",
    "    print(\"The expression is valid.\")\n",
    "else:\n",
    "    print(\"The expression is invalid.\")"
   ]
  },
  {
   "cell_type": "code",
   "execution_count": 6,
   "id": "8800467e-98a3-4ff7-8bad-ecbe959afe25",
   "metadata": {},
   "outputs": [
    {
     "name": "stdout",
     "output_type": "stream",
     "text": [
      "Valid\n"
     ]
    }
   ],
   "source": [
    "#alternate\n",
    "e=\"[3+7{52/11(3+5)}]\"\n",
    "s=Stack()\n",
    "OB=\"[{(\"\n",
    "CB=\")}]\"\n",
    "flag=0\n",
    "for i in e:\n",
    "    if i in OB:\n",
    "        s.push(i)\n",
    "    if i in CB:\n",
    "        x=s.pop()\n",
    "        if x==\"(\" and i==\")\":\n",
    "            pass\n",
    "        elif x==\"{\" and i==\"}\":\n",
    "            pass\n",
    "        elif x==\"[\" and i==\"]\":\n",
    "            pass\n",
    "        else:\n",
    "            flag=1\n",
    "            break\n",
    "if(flag==0):\n",
    "    print(\"Valid\")\n",
    "else:\n",
    "    print(\"Invalid\")\n",
    "    "
   ]
  },
  {
   "cell_type": "markdown",
   "id": "b0aec9a5-600c-4c92-bd20-718f6476b876",
   "metadata": {},
   "source": [
    "#### In a tyre factory, many workers working there are assigned with a integer number which help them to find their supervisor. The project manager having an array that consists of integer numbers that help project manager to find their supervisors. Supervisor will be assigned as the first largest integer find on the right side of the array, if not found return -1. input:[3,5,2,14,5,3,7,9,4,6,9,4,2,5,3] output:[5,14,14,-1,7,7,9,-1,9,9,-1,5,5,-1,-1]"
   ]
  },
  {
   "cell_type": "code",
   "execution_count": 9,
   "id": "13ae65cc-452a-4251-aa44-91a9b07e9d20",
   "metadata": {},
   "outputs": [
    {
     "name": "stdout",
     "output_type": "stream",
     "text": [
      "[5, 14, 14, -1, 7, 7, 9, -1, 6, 9, -1, 5, 5, -1, -1]\n"
     ]
    }
   ],
   "source": [
    "def find_supervisors(arr):\n",
    "    n = len(arr)\n",
    "    result = [-1] * n  \n",
    "    stack = []  \n",
    "    for i in range(n - 1, -1, -1):\n",
    "        while stack and arr[stack[-1]] <= arr[i]:\n",
    "            stack.pop()\n",
    "        if stack:\n",
    "            result[i] = arr[stack[-1]]\n",
    "        stack.append(i)\n",
    "\n",
    "    return result\n",
    "input = [3, 5, 2, 14, 5, 3, 7, 9, 4, 6, 9, 4, 2, 5, 3]\n",
    "output = find_supervisors(input)\n",
    "print(output) "
   ]
  },
  {
   "cell_type": "code",
   "execution_count": 18,
   "id": "d78682c7-42e1-41dc-bc31-eddf98010a28",
   "metadata": {},
   "outputs": [
    {
     "name": "stdout",
     "output_type": "stream",
     "text": [
      "[5, 14, 14, -1, 7, 7, 9, -1, 6, 9, -1, 5, 5, -1, -1]\n"
     ]
    }
   ],
   "source": [
    "class Stack:\n",
    "    def __init__(self):\n",
    "        self.items = []\n",
    "    \n",
    "    def push(self, data):\n",
    "        self.items.append(data)\n",
    "    \n",
    "    def pop(self):\n",
    "        if self.items:\n",
    "            return self.items.pop()\n",
    "        return None\n",
    "    \n",
    "    def size(self):\n",
    "        return len(self.items)\n",
    "    \n",
    "    def top(self):\n",
    "        if self.items:\n",
    "            return self.items[-1]\n",
    "        return None\n",
    "l = [3, 5, 2, 14, 5, 3, 7, 9, 4, 6, 9, 4, 2, 5, 3]\n",
    "o = [0] * len(l)\n",
    "s = Stack()\n",
    "for i in range(len(l) - 1, -1, -1):\n",
    "    if s.size() != 0:\n",
    "        while s.size() != 0 and s.top() <= l[i]:\n",
    "            s.pop()\n",
    "    if s.size() == 0:\n",
    "        o[i] = -1\n",
    "    else:\n",
    "        o[i] = s.top()\n",
    "    s.push(l[i])\n",
    "\n",
    "print(o)\n"
   ]
  },
  {
   "cell_type": "markdown",
   "id": "b349621f-56e4-4f47-aa83-f0371efc7f6a",
   "metadata": {},
   "source": [
    "### Queue"
   ]
  },
  {
   "cell_type": "code",
   "execution_count": null,
   "id": "dbbb1d35-e2b8-4357-82b0-415ba4cbdbfc",
   "metadata": {},
   "outputs": [],
   "source": [
    "class queue:\n",
    "    def __init__(self):\n",
    "        self.item=[]\n",
    "    def push(self,data):\n",
    "        self.item.append(data)\n",
    "    def pop(self):\n",
    "        return self.item.pop(0)\n",
    "    def size(self):\n",
    "        return len(self.item)\n",
    "        "
   ]
  },
  {
   "cell_type": "code",
   "execution_count": 24,
   "id": "0e5b3d33-5512-484e-8ce1-748c15749102",
   "metadata": {},
   "outputs": [
    {
     "name": "stdout",
     "output_type": "stream",
     "text": [
      "<__main__.Node object at 0x0000018C72EE46D0>\n",
      "<__main__.Node object at 0x0000018C7124C610>\n",
      "<__main__.Node object at 0x0000018C7124C610>\n",
      "10\n"
     ]
    }
   ],
   "source": [
    "#linked list\n",
    "class Node:\n",
    "    def __init__(self,data):\n",
    "        self.value=data\n",
    "        self.next=None\n",
    "Head=Tail=Node(10)\n",
    "\n",
    "Tail.next=Node(20)\n",
    "Tail=Tail.next\n",
    "\n",
    "Tail.next=Node(30)\n",
    "Tail=Tail.next\n",
    "\n",
    "Tail.next=Node(40)\n",
    "Tail=Tail.next\n",
    "print(Head)\n",
    "print(Tail)\n",
    "print(Head.next.next.next)\n",
    "print(Head.value)"
   ]
  },
  {
   "cell_type": "code",
   "execution_count": 28,
   "id": "625d27f8-3bab-4d7a-8093-668ca8179a4f",
   "metadata": {},
   "outputs": [
    {
     "name": "stdout",
     "output_type": "stream",
     "text": [
      "10\n",
      "20\n",
      "30\n",
      "40\n"
     ]
    }
   ],
   "source": [
    "def print_linked_list(Head):\n",
    "    if Head==None:\n",
    "        print(\"List is empty\")\n",
    "        return\n",
    "    curr=Head\n",
    "    while curr!=None:\n",
    "        print(curr.value)\n",
    "        curr=curr.next\n",
    "print_linked_list(Head)"
   ]
  },
  {
   "cell_type": "code",
   "execution_count": 30,
   "id": "96fa231e-2057-463d-a350-4dbd3ffc682a",
   "metadata": {},
   "outputs": [
    {
     "name": "stdout",
     "output_type": "stream",
     "text": [
      "Linked list after insertion:\n",
      "20 -> 10 -> 30 -> 40 -> None\n",
      "Linked list after inserting 25 after 10:\n",
      "20 -> 10 -> 25 -> 30 -> 40 -> None\n",
      "Linked list after deleting 20:\n",
      "10 -> 25 -> 30 -> 40 -> None\n",
      "Linked list after deleting 40:\n",
      "10 -> 25 -> 30 -> None\n",
      "Linked list after trying to delete non-existent 50:\n",
      "10 -> 25 -> 30 -> None\n"
     ]
    }
   ],
   "source": [
    "class Node:\n",
    "    def __init__(self, data):\n",
    "        self.data = data\n",
    "        self.next = None\n",
    "\n",
    "class LinkedList:\n",
    "    def __init__(self):\n",
    "        self.head = None\n",
    "\n",
    "    def insert_at_beginning(self, data):\n",
    "        temp = Node(data)\n",
    "        temp.next = self.head\n",
    "        self.head = temp\n",
    "\n",
    "    def insert_at_end(self, data):\n",
    "        temp = Node(data)\n",
    "        if not self.head:\n",
    "            self.head = temp\n",
    "            return\n",
    "        last = self.head\n",
    "        while last.next:\n",
    "            last = last.next\n",
    "        last.next = temp\n",
    "\n",
    "    def insert_after(self, prev_node, data):\n",
    "        curr = self.head\n",
    "        while curr and curr.data != prev_node:\n",
    "            curr = curr.next\n",
    "\n",
    "        if not curr:\n",
    "            print(f\"Node with data {prev_node} not found.\")\n",
    "            return\n",
    "\n",
    "        temp = Node(data)\n",
    "        temp.next = curr.next\n",
    "        curr.next = temp\n",
    "\n",
    "    def delete_node(self, key):\n",
    "        temp = self.head\n",
    "\n",
    "        if temp is not None:\n",
    "            if temp.data == key:\n",
    "                self.head = temp.next\n",
    "                temp = None\n",
    "                return\n",
    "\n",
    "        prev = None\n",
    "        while temp is not None:\n",
    "            if temp.data == key:\n",
    "                break\n",
    "            prev = temp\n",
    "            temp = temp.next\n",
    "\n",
    "        if temp is None:\n",
    "            return\n",
    "\n",
    "        prev.next = temp.next\n",
    "        temp = None\n",
    "\n",
    "    def print_list(self):\n",
    "        temp = self.head\n",
    "        while temp:\n",
    "            print(temp.data, end=\" -> \")\n",
    "            temp = temp.next\n",
    "        print(\"None\")\n",
    "\n",
    "llist = LinkedList()\n",
    "llist.insert_at_beginning(10)\n",
    "llist.insert_at_beginning(20)\n",
    "llist.insert_at_end(30)\n",
    "llist.insert_at_end(40)\n",
    "\n",
    "print(\"Linked list after insertion:\")\n",
    "llist.print_list()\n",
    "\n",
    "llist.insert_after(10, 25)\n",
    "print(\"Linked list after inserting 25 after 10:\")\n",
    "llist.print_list()\n",
    "\n",
    "llist.delete_node(20)\n",
    "print(\"Linked list after deleting 20:\")\n",
    "llist.print_list()\n",
    "\n",
    "llist.delete_node(40)\n",
    "print(\"Linked list after deleting 40:\")\n",
    "llist.print_list()\n",
    "\n",
    "llist.delete_node(50) \n",
    "print(\"Linked list after trying to delete non-existent 50:\")\n",
    "llist.print_list()\n"
   ]
  },
  {
   "cell_type": "code",
   "execution_count": null,
   "id": "69b67ae0-4166-4710-b415-3ef32e2b8fa4",
   "metadata": {},
   "outputs": [],
   "source": [
    "s=input()\n",
    "op=[\"+\",\"-\",\"*\",\"/\"]\n",
    "for i in s:\n",
    "    if i in op:\n",
    "        x=i\n",
    "        s.replace(i,\" \")\n",
    "l=list(map(float,s.split(\" \")))\n",
    "match l:\n",
    "    case '+':\n"
   ]
  }
 ],
 "metadata": {
  "kernelspec": {
   "display_name": "Python 3 (ipykernel)",
   "language": "python",
   "name": "python3"
  },
  "language_info": {
   "codemirror_mode": {
    "name": "ipython",
    "version": 3
   },
   "file_extension": ".py",
   "mimetype": "text/x-python",
   "name": "python",
   "nbconvert_exporter": "python",
   "pygments_lexer": "ipython3",
   "version": "3.11.5"
  }
 },
 "nbformat": 4,
 "nbformat_minor": 5
}
