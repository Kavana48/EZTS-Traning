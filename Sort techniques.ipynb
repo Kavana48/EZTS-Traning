{
 "cells": [
  {
   "cell_type": "markdown",
   "id": "7dcdd19d-69af-4d7a-ae67-d76b3b288875",
   "metadata": {},
   "source": [
    "# Sorting"
   ]
  },
  {
   "cell_type": "markdown",
   "id": "3f53a564-e189-4d09-8e56-c4085e2c100c",
   "metadata": {},
   "source": [
    "#### Bubble Sort"
   ]
  },
  {
   "cell_type": "code",
   "execution_count": 14,
   "id": "bd7941f4-9636-4c58-b08f-f2390623dc5d",
   "metadata": {},
   "outputs": [
    {
     "name": "stdout",
     "output_type": "stream",
     "text": [
      "[5, 7, 10, 15, 23]\n",
      "Minimum number in the list:  5\n",
      "5\n"
     ]
    }
   ],
   "source": [
    "l1=[10,5,7,23,15]\n",
    "#l1=list(map(int,input().split()))\n",
    "#n=len(l1)\n",
    "n=5\n",
    "for i in range(0,n):\n",
    "    for j in range(0,n-1-i):\n",
    "        if l1[j]>l1[j+1]:\n",
    "            l1[j],l1[j+1]=l1[j+1],l1[j]\n",
    "print(l1)\n",
    "print(\"Minimum number in the list: \",l1[0])\n",
    "print(min(l1)) #using built-in function"
   ]
  },
  {
   "cell_type": "code",
   "execution_count": 15,
   "id": "80e6f3a9-6dd1-481c-8ccb-a377506c49ed",
   "metadata": {},
   "outputs": [
    {
     "name": "stdout",
     "output_type": "stream",
     "text": [
      "minimum number :  5\n"
     ]
    }
   ],
   "source": [
    "num=l1[0]\n",
    "for i in l1:\n",
    "    if i < num:\n",
    "        num=i\n",
    "print(\"minimum number : \",num)"
   ]
  },
  {
   "cell_type": "markdown",
   "id": "e4cb8c56-2008-46f5-bd0a-12f84a2d5fc4",
   "metadata": {},
   "source": [
    "####  Selection Sort :Find minimum and put at start index"
   ]
  },
  {
   "cell_type": "code",
   "execution_count": 6,
   "id": "27f40f13-aa97-45a9-a0a5-849807a13c8f",
   "metadata": {},
   "outputs": [
    {
     "name": "stdout",
     "output_type": "stream",
     "text": [
      "[5, 7, 10, 15, 23]\n"
     ]
    }
   ],
   "source": [
    "l2=[10,7,5,23,15]\n",
    "#l2 = list(map(int, input().split()))\n",
    "n = len(l2)\n",
    "for i in range(n):\n",
    "    small = l2[i]\n",
    "    pos = i\n",
    "    for j in range(i + 1, n):\n",
    "        if l2[j] < small:\n",
    "            small = l2[j]\n",
    "            pos = j\n",
    "    l2[i], l2[pos] = l2[pos], l2[i]\n",
    "print(l2)"
   ]
  },
  {
   "cell_type": "markdown",
   "id": "ea034daf-b575-421a-b426-4859c118d62b",
   "metadata": {},
   "source": [
    "#### Insertion Sort"
   ]
  },
  {
   "cell_type": "code",
   "execution_count": null,
   "id": "588cf7b6-2e75-4cbf-b0a4-c5fc9c4694ea",
   "metadata": {},
   "outputs": [],
   "source": []
  },
  {
   "cell_type": "markdown",
   "id": "cb80373d-4593-458d-9184-55c965487e8b",
   "metadata": {},
   "source": [
    "## Recursion"
   ]
  },
  {
   "cell_type": "code",
   "execution_count": 3,
   "id": "d912b56b-24b6-4019-ac49-8320f8331f79",
   "metadata": {},
   "outputs": [
    {
     "name": "stdout",
     "output_type": "stream",
     "text": [
      "0 1 2 3 4 5 6 7 8 9 "
     ]
    }
   ],
   "source": [
    "###Basic Recursion Program for ascending Order \n",
    "def print_num(n):\n",
    "    if n<10:\n",
    "        print(n,end=\" \")\n",
    "        print_num(n+1)\n",
    "    return\n",
    "print_num(0)"
   ]
  },
  {
   "cell_type": "code",
   "execution_count": 4,
   "id": "4f579b40-3715-460a-a803-2f6c4c65b94c",
   "metadata": {},
   "outputs": [
    {
     "name": "stdout",
     "output_type": "stream",
     "text": [
      "9 8 7 6 5 4 3 2 1 0 "
     ]
    }
   ],
   "source": [
    "###Basic Recursion Program for descending Order \n",
    "def print_num(n):\n",
    "    if n<10:\n",
    "        print_num(n+1)\n",
    "        print(n,end=\" \")\n",
    "    return\n",
    "print_num(0)"
   ]
  },
  {
   "cell_type": "code",
   "execution_count": 6,
   "id": "6b73a34f-c5ab-4b1a-8efe-4c4a3dbe8662",
   "metadata": {},
   "outputs": [
    {
     "name": "stdout",
     "output_type": "stream",
     "text": [
      " 20\n"
     ]
    },
    {
     "name": "stdout",
     "output_type": "stream",
     "text": [
      "4181\n",
      "[13529]\n"
     ]
    }
   ],
   "source": [
    "## Fibonacci Series\n",
    "def fib(n,t):\n",
    "    t[0]+=1\n",
    "    if n==1:\n",
    "        return 0\n",
    "    if n==2:\n",
    "        return 1\n",
    "    return fib(n-1,t)+fib(n-2,t)\n",
    "if __name__==\"__main__\":\n",
    "    n=int(input())\n",
    "    t=[0]\n",
    "    print(fib(n,t))\n",
    "    print(t)\n"
   ]
  },
  {
   "cell_type": "code",
   "execution_count": 5,
   "id": "7eb10a27-41f2-4118-acc8-809a04c11db6",
   "metadata": {},
   "outputs": [
    {
     "name": "stdout",
     "output_type": "stream",
     "text": [
      " 5\n"
     ]
    },
    {
     "name": "stdout",
     "output_type": "stream",
     "text": [
      "120\n",
      "[5]\n"
     ]
    }
   ],
   "source": [
    "### factorial using Recursion\n",
    "t=[0]\n",
    "def fact(n):\n",
    "    t[0]+=1\n",
    "    if (n==0) or (n==1):\n",
    "        return 1\n",
    "    else:\n",
    "        return n*fact(n-1)\n",
    "\n",
    "n=int(input())\n",
    "print(fact(n))\n",
    "print(t)"
   ]
  },
  {
   "cell_type": "markdown",
   "id": "5a990793-1036-4697-bb5e-e7f988605aa3",
   "metadata": {},
   "source": [
    "#### Quick Sort"
   ]
  },
  {
   "cell_type": "code",
   "execution_count": 9,
   "id": "40fd12d4-4ab0-4652-8f92-4f0903710c66",
   "metadata": {},
   "outputs": [],
   "source": [
    "#If I found smaller element than pivot then increase j by 1 and swap it by i.\n",
    "#If I found bigger element than pivot I will do nothing\n",
    "#[4 6 7 2 8 9 3 1 5]"
   ]
  },
  {
   "cell_type": "code",
   "execution_count": 12,
   "id": "726817d5-1db7-43dc-b345-4a7dc49fc945",
   "metadata": {},
   "outputs": [
    {
     "name": "stdout",
     "output_type": "stream",
     "text": [
      " 20 40 70 30 10 50\n"
     ]
    },
    {
     "name": "stdout",
     "output_type": "stream",
     "text": [
      "Sorted array:  [10, 20, 30, 40, 50, 70]\n"
     ]
    }
   ],
   "source": [
    "#l=[4,6,7,2,8,9,3,1,5]\n",
    "#l=list(map(int,input().split()))\n",
    "def divide(l,low,high):\n",
    "    p=l[high]\n",
    "    pi=high\n",
    "    j=low-1\n",
    "    for i in range(low,high):\n",
    "        if l[i]<=p:\n",
    "            j+=1\n",
    "            l[i],l[j]=l[j],l[i]\n",
    "    j+=1\n",
    "    l[j],l[pi]=l[pi],l[j]\n",
    "    pi=j\n",
    "    return pi\n",
    "def quick_sort(l,low,high):\n",
    "    if low<high:\n",
    "        pi=divide(l,low,high)\n",
    "        quick_sort(l,low,pi-1)\n",
    "        quick_sort(l,pi+1,high)\n",
    "    return\n",
    "if __name__==\"__main__\":\n",
    "    l=list(map(int,input().split()))\n",
    "    quick_sort(l,0,len(l)-1)\n",
    "    print(\"Sorted array: \",l)"
   ]
  },
  {
   "cell_type": "code",
   "execution_count": 16,
   "id": "e1980475-1263-4fed-81c0-45e2044b64db",
   "metadata": {},
   "outputs": [
    {
     "name": "stdout",
     "output_type": "stream",
     "text": [
      " 20 40 70 30 10 50\n"
     ]
    },
    {
     "name": "stdout",
     "output_type": "stream",
     "text": [
      "0 5\n",
      "4 0 5\n",
      "0 0 3\n",
      "1 1 3\n",
      "3 2 3\n",
      "Sorted array:  [10, 20, 30, 40, 50, 70]\n"
     ]
    }
   ],
   "source": [
    "#Alternate \n",
    "def divide(l,low,high):\n",
    "    p=l[high]\n",
    "    pi=high\n",
    "    j=low-1\n",
    "    for i in range(low,high):\n",
    "        if l[i]<=p:\n",
    "            j+=1\n",
    "            l[i],l[j]=l[j],l[i]\n",
    "    j+=1\n",
    "    l[j],l[pi]=l[pi],l[j]\n",
    "    pi=j\n",
    "    return pi\n",
    "def quick_sort(l,low,high):\n",
    "    if low<high:\n",
    "        pi=divide(l,low,high)\n",
    "        print(pi,low,high)\n",
    "        quick_sort(l,low,pi-1)\n",
    "        quick_sort(l,pi+1,high)\n",
    "    return\n",
    "if __name__==\"__main__\":\n",
    "    l=list(map(int,input().split()))\n",
    "    low=0\n",
    "    high=len(l)-1\n",
    "    print(low,high)\n",
    "    quick_sort(l,0,len(l)-1)\n",
    "    print(\"Sorted array: \",l)"
   ]
  },
  {
   "cell_type": "markdown",
   "id": "a7629546-ec9a-402d-8f2b-bf63adf8069d",
   "metadata": {},
   "source": [
    "#### Merge Sort"
   ]
  },
  {
   "cell_type": "code",
   "execution_count": 18,
   "id": "5e5a2a53-ee4c-4159-a1e8-8a61a170a65a",
   "metadata": {},
   "outputs": [
    {
     "name": "stdout",
     "output_type": "stream",
     "text": [
      " 5 2 8 1 9 3 7 4 6\n"
     ]
    },
    {
     "name": "stdout",
     "output_type": "stream",
     "text": [
      "Sorted list: [1, 2, 3, 4, 5, 6, 7, 8, 9]\n"
     ]
    }
   ],
   "source": [
    "def merge(left, right):\n",
    "    result = []\n",
    "    left_index = 0\n",
    "    right_index = 0\n",
    "    while left_index < len(left) and right_index < len(right):\n",
    "        if left[left_index] <= right[right_index]:\n",
    "            result.append(left[left_index])\n",
    "            left_index += 1\n",
    "        else:\n",
    "            result.append(right[right_index])\n",
    "            right_index += 1\n",
    "    while left_index < len(left):\n",
    "        result.append(left[left_index])\n",
    "        left_index += 1\n",
    "    while right_index < len(right):\n",
    "        result.append(right[right_index])\n",
    "        right_index += 1\n",
    "    return result\n",
    "def merge_sort(arr):\n",
    "    if len(arr) <= 1:\n",
    "        return arr\n",
    "    mid = len(arr) // 2\n",
    "    left_half = arr[:mid]\n",
    "    right_half = arr[mid:]\n",
    "    left_half = merge_sort(left_half)\n",
    "    right_half = merge_sort(right_half)\n",
    "    return merge(left_half, right_half)\n",
    "\n",
    "#n = [5, 2, 8, 1, 9, 3, 7, 4, 6]\n",
    "if __name__==\"__main__\":\n",
    "    l=list(map(int,input().split()))\n",
    "    sorted_list = merge_sort(l)\n",
    "    print(\"Sorted list:\", sorted_list)"
   ]
  },
  {
   "cell_type": "code",
   "execution_count": 2,
   "id": "5ee5667f-0f19-4930-b6c6-be57660186f8",
   "metadata": {},
   "outputs": [
    {
     "name": "stdout",
     "output_type": "stream",
     "text": [
      " 5 2 8 1 9 3 7 4 6\n"
     ]
    },
    {
     "name": "stdout",
     "output_type": "stream",
     "text": [
      "0 8\n",
      "sorted array=  [1, 2, 3, 4, 5, 6, 7, 8, 9]\n"
     ]
    }
   ],
   "source": [
    "#Alternate\n",
    "def merge(L,low,mid,high):\n",
    "    Left = L[low:mid+1]\n",
    "    Right = L[mid+1:high+1]\n",
    "       \n",
    "    #Temp=[0]*len(L)\n",
    "    i=j=0\n",
    "    t=low\n",
    "    while i<len(Left) and j<len(Right):\n",
    "        if Left[i]<Right[j]:\n",
    "           L[t]=Left[i]\n",
    "           i+=1\n",
    "           t+=1\n",
    "        else:\n",
    "           L[t]=Right[j]\n",
    "           j+=1\n",
    "           t+=1\n",
    "    while i<len(Left):\n",
    "        L[t]=Left[i]\n",
    "        i+=1\n",
    "        t+=1\n",
    "    while j<len(Right):\n",
    "        L[t]=Right[j]\n",
    "        j+=1\n",
    "        t+=1\n",
    "       \n",
    "def mergesort(L,low,high):\n",
    "    if low<high:\n",
    "        mid=(low+high)//2\n",
    "        mergesort(L,low,mid)\n",
    "        mergesort(L,mid+1,high)\n",
    "        merge(L,low,mid,high)\n",
    "\n",
    "if __name__==\"__main__\":\n",
    "    L=list(map(int,input().split()))\n",
    "    low=0\n",
    "    high=len(L)-1\n",
    "    print(low,high)\n",
    "    mergesort(L,low,high)\n",
    "\n",
    "    print(\"sorted array= \",L)"
   ]
  },
  {
   "cell_type": "code",
   "execution_count": null,
   "id": "04253dfe-43f4-4394-aad2-8b3fc2245003",
   "metadata": {},
   "outputs": [],
   "source": []
  }
 ],
 "metadata": {
  "kernelspec": {
   "display_name": "Python 3 (ipykernel)",
   "language": "python",
   "name": "python3"
  },
  "language_info": {
   "codemirror_mode": {
    "name": "ipython",
    "version": 3
   },
   "file_extension": ".py",
   "mimetype": "text/x-python",
   "name": "python",
   "nbconvert_exporter": "python",
   "pygments_lexer": "ipython3",
   "version": "3.11.7"
  }
 },
 "nbformat": 4,
 "nbformat_minor": 5
}
