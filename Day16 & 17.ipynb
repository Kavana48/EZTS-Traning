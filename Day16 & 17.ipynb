{
 "cells": [
  {
   "cell_type": "code",
   "execution_count": 1,
   "id": "ed295add-9b80-415f-a986-c5de0133e693",
   "metadata": {},
   "outputs": [
    {
     "name": "stdout",
     "output_type": "stream",
     "text": [
      "[(0, 1), (0, 2), (0, 3), (1, 4), (2, 1), (2, 4), (3, 2), (3, 5), (4, 5)]\n",
      "{0: 0, 1: inf, 2: inf, 3: inf, 4: inf, 5: inf}\n",
      "{0: 0, 1: 1, 2: 3, 3: 5, 4: 0, 5: 3}\n"
     ]
    }
   ],
   "source": [
    "###Bellmanford Algorithm\n",
    "\n",
    "G=[\n",
    "    [0,6,4,5,False,False],\n",
    "    [False,0,False,False,-1,False],\n",
    "    [False,-2,0,False,3,False],\n",
    "    [False,False,-2,0,False,-1],\n",
    "    [False,False,False,False,0,3],\n",
    "    [False,False,False,False,False,0]\n",
    "]\n",
    "#d={0:\"A\",1:\"B\",2:\"C\",3:\"D\",4:\"E\",5:\"F\"}\n",
    "\n",
    "E_L=[]\n",
    "for i in range(len(G)):\n",
    "    for j in range(len(G[i])):\n",
    "        if G[i][j]!=False and G[i][j]!=0:\n",
    "            E_L.append(tuple((i,j)))\n",
    "\n",
    "print(E_L)\n",
    "dist={}\n",
    "for i in range(len(G)):\n",
    "    dist[i]=float(\"inf\")\n",
    "    \n",
    "dist[0]=0\n",
    "print(dist)\n",
    "for i in range(len(G)-1):\n",
    "    for j in E_L:\n",
    "        new_dist=dist[j[0]]+G[j[0]][j[1]]\n",
    "        if dist[j[1]]>new_dist:\n",
    "            dist[j[1]]=new_dist\n",
    "            \n",
    "        \n",
    "print(dist)   "
   ]
  },
  {
   "cell_type": "code",
   "execution_count": 2,
   "id": "9d0c686e-e8de-43a9-a98e-2cafad184641",
   "metadata": {},
   "outputs": [
    {
     "name": "stdout",
     "output_type": "stream",
     "text": [
      "[0, 6, 10, 5, 8, 11, 8, 2, 16, 10]\n"
     ]
    }
   ],
   "source": [
    "G=[\n",
    "    [0,7,False,False,False,False,False,2,False,False],\n",
    "    [7,0,4,1,False,5,False,False,False,False],\n",
    "    [False,4,0,False,False,False,False,8,False,False],\n",
    "    [False,1,False,0,6,8,3,3,False,False],\n",
    "    [False,False,False,6,0,False,False,6,8,False],\n",
    "    [False,5,False,8,False,0,False,False,False,False],\n",
    "    [False,False,False,3,False,False,0,False,9,2],\n",
    "    [2,False,8,3,6,False,False,0,False,False],\n",
    "    [False,False,False,False,8,False,9,False,0,False],\n",
    "    [False,False,False,False,False,False,2,False,False,0]\n",
    "]\n",
    "temp={}\n",
    "for i in range(len(G)):\n",
    "    temp[i]=float(\"inf\")\n",
    "Dist=[float(\"inf\")]*len(G)\n",
    "\n",
    "temp[0]=0\n",
    "while len(temp)>0:\n",
    "    min_value=min(temp.values())\n",
    "    min_key=min(temp,key=temp.get)\n",
    "    temp.pop(min_key)\n",
    "    Dist[min_key]=min_value\n",
    "    #temp_min=float(\"inf\")\n",
    "    for j in range(len(G[min_key])):\n",
    "        if G[min_key][j]!=False and G[min_key][j]!=0:\n",
    "            new_dist=min_value+G[min_key][j]\n",
    "            if j in temp.keys() and temp[j]>new_dist:\n",
    "                temp[j]=new_dist\n",
    "\n",
    "print(Dist)"
   ]
  },
  {
   "cell_type": "code",
   "execution_count": 3,
   "id": "fe4d3a57-9b8e-4e59-beee-fdfec3ec2abc",
   "metadata": {},
   "outputs": [
    {
     "name": "stdout",
     "output_type": "stream",
     "text": [
      "Minimum cost=  19\n"
     ]
    }
   ],
   "source": [
    "##Traveling Salesman problem for dynamic programming using recursion\n",
    "\n",
    "import sys\n",
    "\n",
    "def cost(curr,VL,G,dp):\n",
    "    n=len(G)\n",
    "    if len(VL)==n:\n",
    "        return G[curr][0]\n",
    "    visit=tuple(VL)\n",
    "    if(curr,visit) in dp:\n",
    "        return dp[(curr,visit)]\n",
    "        \n",
    "    mim = sys.maxsize\n",
    "    for i in range(n):\n",
    "        if i not in VL:\n",
    "            new_visit=VL+[i]\n",
    "            new_cost=G[curr][i]+cost(i,new_visit,G,dp)\n",
    "            mim=min(mim,new_cost)\n",
    "    dp[(curr,visit)]=mim\n",
    "    return mim\n",
    "\n",
    "\n",
    "G=[ [0,4,7,5,5],\n",
    "    [4,0,2,4,8],\n",
    "    [7,2,0,3,3],\n",
    "    [5,4,3,0,6],\n",
    "    [5,8,3,6,0]]\n",
    "n=len(G)\n",
    "dp={}\n",
    "print(\"Minimum cost= \",cost(0,[0],G,dp))"
   ]
  },
  {
   "cell_type": "code",
   "execution_count": 4,
   "id": "38ca84c0-6373-4828-9bea-13d11f53da63",
   "metadata": {},
   "outputs": [
    {
     "name": "stdout",
     "output_type": "stream",
     "text": [
      "5\n"
     ]
    }
   ],
   "source": [
    "S=\"ADDCMABABCANFDKABABCNCKABABACADKFJUGF\"\n",
    "print(S.index(\"ABABCA\"))"
   ]
  },
  {
   "cell_type": "code",
   "execution_count": 5,
   "id": "bd2d33f2-4b40-4178-90ae-565afa7c3447",
   "metadata": {},
   "outputs": [
    {
     "name": "stdin",
     "output_type": "stream",
     "text": [
      " ABCAB\n"
     ]
    },
    {
     "name": "stdout",
     "output_type": "stream",
     "text": [
      "[12, 15, 18]\n"
     ]
    }
   ],
   "source": [
    "S=\"ABABACDEABABABCABCABCABDAA\"\n",
    "P=input()\n",
    "n=len(P)\n",
    "index=[]\n",
    "for i in range(len(S)):\n",
    "    if S[i:i+n]==P:\n",
    "        index.append(i)\n",
    "\n",
    "print(index)"
   ]
  },
  {
   "cell_type": "code",
   "execution_count": 6,
   "id": "f181a5ce-8626-40b2-b845-de8b554bfd87",
   "metadata": {},
   "outputs": [
    {
     "name": "stdout",
     "output_type": "stream",
     "text": [
      "[0, 0, 1, 2]\n",
      "[0, 0, 1, 2, 0, 1, 2, 3]\n"
     ]
    }
   ],
   "source": [
    "S=\"ABABACDEABABABCABCABCABDAA\"\n",
    "P=\"ABCAB\"\n",
    "L=[]\n",
    "j=0\n",
    "for i in range(1,len(P)):\n",
    "    if P[i]==P[j]:\n",
    "        L.append(j+1)\n",
    "        j=j+1\n",
    "    else:\n",
    "        j=0\n",
    "        L.append(j)\n",
    "            \n",
    "    \n",
    "print(L)\n",
    "j=-1\n",
    "for i in range(1,len(P)):\n",
    "    if P[i]==P[j+1]: \n",
    "        L.append(j+1)\n",
    "        j=L[j]-1\n",
    "        if j==len(P):\n",
    "            LP=P[i]-len(P)\n",
    "        \n",
    "    else:\n",
    "        j=j+1\n",
    "        L.append(j)\n",
    "        \n",
    "\n",
    "print(L)"
   ]
  },
  {
   "cell_type": "code",
   "execution_count": 7,
   "id": "930ce770-ded2-4391-8555-1736e367a7a5",
   "metadata": {},
   "outputs": [
    {
     "name": "stdout",
     "output_type": "stream",
     "text": [
      "[0, 0, 0, 1, 2]\n",
      "Pattern found 12\n",
      "Pattern found 15\n",
      "Pattern found 18\n"
     ]
    }
   ],
   "source": [
    "def kmpalgo(P,S):\n",
    "    M=len(P)\n",
    "    N=len(S)\n",
    "    lps=[]\n",
    "    LPS(P,M,lps)\n",
    "    print(lps)\n",
    "    i=0\n",
    "    j=0\n",
    "    while(N-i)>=(M-j):\n",
    "        if P[j]==S[i]:\n",
    "            i+=1\n",
    "            j+=1\n",
    "\n",
    "        if j==M:\n",
    "            print(\"Pattern found\",i-j)\n",
    "            j=lps[j-1]\n",
    "        elif i<N and P[j]!=S[i]:\n",
    "            if j!=0:\n",
    "                j=lps[j-1]\n",
    "            else:\n",
    "                i+=1\n",
    "def LPS(P,M,lps):\n",
    "    lps.append(0) \n",
    "    j=0\n",
    "    for i in range(1,len(P)):\n",
    "        if P[i]==P[j]:\n",
    "            lps.append(j+1)\n",
    "            j+=1\n",
    "        else:\n",
    "            j=0\n",
    "            lps.append(j)\n",
    "if __name__=='__main__':\n",
    "    S=\"ABABACDEABABABCABCABCABDAA\"\n",
    "    P=\"ABCAB\"\n",
    "    kmpalgo(P,S)"
   ]
  },
  {
   "cell_type": "code",
   "execution_count": 13,
   "id": "5ee0a5a2-91e9-4dee-8b4e-d12383717e79",
   "metadata": {},
   "outputs": [
    {
     "name": "stdout",
     "output_type": "stream",
     "text": [
      "move 1 from A to B\n",
      "move 2 from A to C\n",
      "move 1 from B to C\n",
      "move 3 from A to B\n",
      "move 1 from C to A\n",
      "move 2 from C to B\n",
      "move 1 from A to B\n",
      "move 4 from A to C\n",
      "move 1 from B to C\n",
      "move 2 from B to A\n",
      "move 1 from C to A\n",
      "move 3 from B to C\n",
      "move 1 from A to B\n",
      "move 2 from A to C\n",
      "move 1 from B to C\n",
      "[15]\n"
     ]
    }
   ],
   "source": [
    "def tower(n,frm,to,aux,ctr):\n",
    "    if n==0:\n",
    "        return\n",
    "    tower(n-1,frm,aux,to,ctr)\n",
    "    print(f\"move {n} from {frm} to {to}\")\n",
    "    ctr[0]+=1\n",
    "    tower(n-1,aux,to,frm,ctr)\n",
    "n=4\n",
    "ctr=[0]\n",
    "tower(n,'A','C','B',ctr)\n",
    "print(ctr)"
   ]
  },
  {
   "cell_type": "code",
   "execution_count": null,
   "id": "d04a368e-634a-4d85-b9df-0f57b084f58b",
   "metadata": {},
   "outputs": [],
   "source": []
  }
 ],
 "metadata": {
  "kernelspec": {
   "display_name": "Python 3 (ipykernel)",
   "language": "python",
   "name": "python3"
  },
  "language_info": {
   "codemirror_mode": {
    "name": "ipython",
    "version": 3
   },
   "file_extension": ".py",
   "mimetype": "text/x-python",
   "name": "python",
   "nbconvert_exporter": "python",
   "pygments_lexer": "ipython3",
   "version": "3.11.7"
  }
 },
 "nbformat": 4,
 "nbformat_minor": 5
}
